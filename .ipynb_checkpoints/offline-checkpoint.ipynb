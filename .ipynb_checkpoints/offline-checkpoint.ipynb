{
 "cells": [
  {
   "cell_type": "code",
   "execution_count": 17,
   "metadata": {},
   "outputs": [],
   "source": [
    "import pandas as pd\n",
    "from sklearn.tree import DecisionTreeClassifier\n",
    "from sklearn.model_selection import train_test_split\n",
    "from sklearn.metrics import classification_report\n",
    "import utils\n",
    "import numpy as np\n",
    "from sklearn import tree\n",
    "import matplotlib.pyplot as plt"
   ]
  },
  {
   "cell_type": "code",
   "execution_count": 6,
   "metadata": {},
   "outputs": [],
   "source": [
    "def filter_by_prefix(df,prefix):\n",
    "    '''\n",
    "    Filter case by prefix length\n",
    "    \n",
    "    Parameters\n",
    "    ----------\n",
    "    df : pandas dataframe\n",
    "        Assigned dataframe to slice by prefix length\n",
    "    \n",
    "    prefix : int\n",
    "        Prefix length to slice to cases in fixed length\n",
    "    \n",
    "    Returns\n",
    "    ----------\n",
    "    Return dataframe with sliced cases\n",
    "    '''\n",
    "    df['ts'] = pd.to_datetime(df['ts'])\n",
    "    groups = df.groupby('caseid')\n",
    "    encoded_df=[]\n",
    "    for case,group in groups: \n",
    "        group = group.reset_index(drop=True)\n",
    "        if len(group)>=prefix:\n",
    "            group = group.loc[:prefix-1,:]\n",
    "            encoded_df.append(group)\n",
    "    return pd.concat(encoded_df)"
   ]
  },
  {
   "cell_type": "code",
   "execution_count": 3,
   "metadata": {},
   "outputs": [],
   "source": [
    "def aggregation_encoding(df, prefix):\n",
    "    '''\n",
    "    Aggregation encoding\n",
    "    \n",
    "    Parameters\n",
    "    ----------\n",
    "    df : pandas dataframe\n",
    "        Assigned dataframe to encode for outcome prediction\n",
    "    \n",
    "    prefix : int\n",
    "        Prefix length to slice to cases in fixed length\n",
    "    \n",
    "    Returns\n",
    "    ----------\n",
    "    Return dataframe encoded in aggregation method\n",
    "    '''\n",
    "    df = filter_by_prefix(df,prefix)\n",
    "    df['ts'] = pd.to_datetime(df['ts'])\n",
    "    groups = df.groupby('caseid')\n",
    "    encoded_df=[]\n",
    "    for case,group in groups: \n",
    "        group = group.reset_index(drop=True)\n",
    "        outcome = set(group['outcome']).pop()\n",
    "        cumdurationlist = [(x - list(group['ts'])[0]).total_seconds() for x in list(group['ts'])]\n",
    "        case_time_outcome = {'caseid':case, 'ts':np.mean(cumdurationlist),'outcome':outcome}\n",
    "        activity_count = {x: list(group['activity']).count(x) for x in set(group['activity'])}\n",
    "        resource_count = {x: list(group['resource']).count(x) for x in set(group['resource'])}\n",
    "\n",
    "        case_time_outcome.update(activity_count)\n",
    "        case_time_outcome.update(resource_count)\n",
    "        dfk = pd.DataFrame.from_dict([case_time_outcome])\n",
    "        encoded_df.append(dfk)\n",
    "    concated_df = pd.concat(encoded_df)\n",
    "    concated_df = concated_df.fillna(0)\n",
    "    return concated_df"
   ]
  },
  {
   "cell_type": "code",
   "execution_count": 11,
   "metadata": {},
   "outputs": [],
   "source": [
    "df = pd.read_csv('./data/bpic2017.csv')\n",
    "df['Complete Timestamp'] = pd.to_datetime(df['Complete Timestamp'])\n",
    "df = df.rename(columns={'Case ID':'caseid','Activity':'activity','Complete Timestamp':'ts','Resource':'resource'})\n",
    "df = df.loc[:,['caseid','activity','ts','resource']]\n",
    "groups = df.groupby('caseid')\n",
    "reconcatenate =[]\n",
    "for _,group in groups:\n",
    "    group = group.reset_index(drop=True)\n",
    "    case_label = utils.set_label(group.iloc[-1,:].to_dict())['True label']\n",
    "    group.loc[:,'outcome'] = case_label\n",
    "    reconcatenate.append(group)\n",
    "dfn = pd.concat(reconcatenate)\n",
    "df2 = aggregation_encoding(dfn,2)\n",
    "df3 = aggregation_encoding(dfn,3)\n",
    "df4 = aggregation_encoding(dfn,4)"
   ]
  },
  {
   "cell_type": "code",
   "execution_count": 12,
   "metadata": {},
   "outputs": [
    {
     "name": "stdout",
     "output_type": "stream",
     "text": [
      "BPIC2017 aggregation encoding with prefix length 3\n",
      "Decision Tree\n",
      "              precision    recall  f1-score   support\n",
      "\n",
      "    Accepted       0.45      0.26      0.32       540\n",
      "   Cancelled       0.56      0.83      0.67       810\n",
      "     Refused       0.00      0.00      0.00       150\n",
      "\n",
      "    accuracy                           0.54      1500\n",
      "   macro avg       0.34      0.36      0.33      1500\n",
      "weighted avg       0.46      0.54      0.48      1500\n",
      "\n"
     ]
    }
   ],
   "source": [
    "print('BPIC2017 aggregation encoding with prefix length 3')\n",
    "y = df3['outcome']\n",
    "x =df3.drop(columns=['outcome','caseid'],axis=1)\n",
    "x_train,x_test,y_train,y_test = train_test_split(x,y, test_size=0.3)\n",
    "\n",
    "# Deicision tree result\n",
    "print('Decision Tree')\n",
    "dt = DecisionTreeClassifier(criterion='entropy', max_depth=5).fit(x_train,y_train)\n",
    "y_pred = dt.predict(x_test)\n",
    "print(classification_report(y_test,y_pred))"
   ]
  },
  {
   "cell_type": "code",
   "execution_count": 13,
   "metadata": {},
   "outputs": [
    {
     "name": "stdout",
     "output_type": "stream",
     "text": [
      "BPIC2017 aggregation encoding with prefix length 4\n",
      "Decision Tree\n",
      "              precision    recall  f1-score   support\n",
      "\n",
      "    Accepted       0.71      1.00      0.83       540\n",
      "   Cancelled       1.00      0.87      0.93       755\n",
      "     Refused       1.00      0.23      0.38       164\n",
      "\n",
      "    accuracy                           0.85      1459\n",
      "   macro avg       0.90      0.70      0.71      1459\n",
      "weighted avg       0.89      0.85      0.83      1459\n",
      "\n"
     ]
    }
   ],
   "source": [
    "print('BPIC2017 aggregation encoding with prefix length 4')\n",
    "y = df4['outcome']\n",
    "x =df4.drop(columns=['outcome','caseid'],axis=1)\n",
    "x_train,x_test,y_train,y_test = train_test_split(x,y, test_size=0.3)\n",
    "\n",
    "# Deicision tree result\n",
    "print('Decision Tree')\n",
    "dt = DecisionTreeClassifier(criterion='entropy', max_depth=5).fit(x_train,y_train)\n",
    "y_pred = dt.predict(x_test)\n",
    "print(classification_report(y_test,y_pred))"
   ]
  },
  {
   "cell_type": "code",
   "execution_count": 18,
   "metadata": {},
   "outputs": [
    {
     "data": {
      "image/png": "[encoded data removed]",
      "text/plain": [
       "<Figure size 432x288 with 1 Axes>"
      ]
     },
     "metadata": {
      "needs_background": "light"
     },
     "output_type": "display_data"
    }
   ],
   "source": [
    "tree.plot_tree(dt)\n",
    "plt.show()"
   ]
  }
 ],
 "metadata": {
  "kernelspec": {
   "display_name": "Python 3",
   "language": "python",
   "name": "python3"
  },
  "language_info": {
   "codemirror_mode": {
    "name": "ipython",
    "version": 3
   },
   "file_extension": ".py",
   "mimetype": "text/x-python",
   "name": "python",
   "nbconvert_exporter": "python",
   "pygments_lexer": "ipython3",
   "version": "3.8.7"
  }
 },
 "nbformat": 4,
 "nbformat_minor": 2
}
