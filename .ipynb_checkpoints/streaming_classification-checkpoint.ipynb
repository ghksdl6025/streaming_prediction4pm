{
 "cells": [
  {
   "cell_type": "code",
   "execution_count": 1,
   "metadata": {},
   "outputs": [],
   "source": [
    "from river import stream,tree,metrics\n",
    "import utils\n",
    "import datetime\n",
    "from encoding import prefix_bin\n",
    "import csv"
   ]
  },
  {
   "cell_type": "code",
   "execution_count": 2,
   "metadata": {},
   "outputs": [],
   "source": [
    "dataset = stream.iter_csv(\n",
    "            './data/bpic2017.csv',\n",
    "            drop=['(case) Accepted', '(case) ApplicationID', '(case) CreditScore', '(case) FirstWithdrawalAmount',\n",
    "            '(case) MonthlyCost', '(case) NumberOfTerms', '(case) OfferedAmount', '(case) Selected',\n",
    "            'Action', 'EventID', 'EventOrigin', 'OfferID', 'lifecycle:transition']\n",
    "            )\n",
    "totallength = len(list(dataset))"
   ]
  },
  {
   "cell_type": "code",
   "execution_count": 3,
   "metadata": {},
   "outputs": [],
   "source": [
    "dataset = stream.iter_csv(\n",
    "            './data/bpic2017.csv',\n",
    "            drop=['(case) Accepted', '(case) ApplicationID', '(case) CreditScore', '(case) FirstWithdrawalAmount',\n",
    "            '(case) MonthlyCost', '(case) NumberOfTerms', '(case) OfferedAmount', '(case) Selected',\n",
    "            'Action', 'EventID', 'EventOrigin', 'OfferID', 'lifecycle:transition']\n",
    "            )"
   ]
  },
  {
   "cell_type": "code",
   "execution_count": 4,
   "metadata": {},
   "outputs": [],
   "source": [
    "key_pair = {\n",
    "    'Case ID' : 'caseid',\n",
    "    'Activity' : 'activity',\n",
    "    'Resource' : 'resource',\n",
    "    'Complete Timestamp' : 'ts'\n",
    "}\n",
    "\n",
    "case_dict ={}\n",
    "trainset_prefix ={}\n",
    "feature_matrix ={}\n",
    "casecount = 0\n",
    "rowcounter = 0\n",
    "resultdict ={}\n",
    "\n",
    "acc_dict ={}"
   ]
  },
  {
   "cell_type": "code",
   "execution_count": 5,
   "metadata": {},
   "outputs": [
    {
     "name": "stdout",
     "output_type": "stream",
     "text": [
      "0.0 % Case finished: 0\n",
      "4.46 % Case finished: 22\n",
      "8.92 % Case finished: 47\n",
      "13.39 % Case finished: 110\n",
      "17.85 % Case finished: 244\n",
      "22.31 % Case finished: 362\n",
      "26.77 % Case finished: 503\n",
      "31.24 % Case finished: 686\n",
      "35.7 % Case finished: 820\n",
      "40.16 % Case finished: 974\n",
      "44.62 % Case finished: 1008\n",
      "49.09 % Case finished: 1081\n",
      "53.55 % Case finished: 1203\n",
      "58.01 % Case finished: 1373\n",
      "62.47 % Case finished: 1584\n",
      "66.94 % Case finished: 1744\n",
      "71.4 % Case finished: 1910\n",
      "75.86 % Case finished: 2132\n",
      "80.32 % Case finished: 2273\n",
      "84.79 % Case finished: 2469\n",
      "89.25 % Case finished: 2953\n",
      "93.71 % Case finished: 3711\n",
      "98.17 % Case finished: 4599\n"
     ]
    }
   ],
   "source": [
    "for x,y in dataset:\n",
    "    if rowcounter%1000 == 0:\n",
    "        print(round(rowcounter*100/totallength,2) ,'%', 'Case finished: %s'%(casecount))\n",
    "    rowcounter +=1\n",
    "    # Event stream change dictionary keys\n",
    "    x = utils.dictkey_chg(x, key_pair)\n",
    "\n",
    "    # Event timestamp slice decimals\n",
    "    x['ts'] = x['ts'][:-4]\n",
    "\n",
    "    # Check label possible\n",
    "    x = utils.set_label(x)\n",
    "\n",
    "    # Initialize case by prefix length\n",
    "    caseid = x['caseid']\n",
    "    x.pop('caseid')\n",
    "    case_bin = prefix_bin(caseid, x)\n",
    "\n",
    "    # Allocate event stream to prefix bin class\n",
    "    if 'True label' not in x.keys():\n",
    "        if caseid not in list(case_dict.keys()):\n",
    "            case_bin.set_prefix_length(1)    \n",
    "            case_dict[caseid] = []\n",
    "        else:\n",
    "            case_bin.set_prefix_length(len(case_dict[caseid])+1)\n",
    "            case_bin.set_prev_enc(case_dict[caseid][-1])\n",
    "        case_bin.update_encoded()\n",
    "        case_dict[caseid].append(case_bin)\n",
    "\n",
    "    # Adding newly finished case to training set.    \n",
    "    else:\n",
    "        casecount +=1\n",
    "\n",
    "        # Grace period to collect feature matrix\n",
    "        if casecount <100:\n",
    "            case_length = len(case_dict[caseid])\n",
    "            for prefix in range(1, case_length):\n",
    "                if 'prefix_%s'%(prefix+1) not in list(feature_matrix.keys()):\n",
    "                    feature_matrix['prefix_%s'%(prefix+1)]=set()\n",
    "                    # Initialize classifier and performance matrix and updating count\n",
    "                    trainset_prefix['prefix_%s'%(prefix+1)] = [tree.HoeffdingTreeClassifier(split_criterion='info_gain'),metrics.Accuracy(), 0]\n",
    "                feature_list = list(case_dict[caseid][prefix].encoded.keys())\n",
    "                for x in feature_list: feature_matrix['prefix_%s'%(prefix+1)].add(x) \n",
    "            case_dict.pop(caseid)               \n",
    "\n",
    "        # Real training start\n",
    "        else:\n",
    "            # Modify encoded attributes of cases with feature matrix\n",
    "            case_length = len(case_dict[caseid])\n",
    "            y = x['True label']\n",
    "            for prefix in range(1, case_length):\n",
    "                case_dict[caseid][prefix].update_truelabel(y)\n",
    "                if case_dict[caseid][prefix].grace_updated == False:\n",
    "                    case_dict[caseid][prefix].encoded = utils.readjustment_training(case_dict[caseid][prefix].encoded, feature_matrix['prefix_%s'%(prefix+1)])\n",
    "                case_dict[caseid][prefix].update_grace_status(True)\n",
    "                x = case_dict[caseid][prefix].encoded\n",
    "                model = trainset_prefix['prefix_%s'%(prefix+1)][0]\n",
    "                model.learn_one(x,y)\n",
    "                trainset_prefix['prefix_%s'%(prefix+1)][2] +=1\n",
    "                y_pred = model.predict_one(x)\n",
    "                trainset_prefix['prefix_%s'%(prefix+1)][1].update(y,y_pred)\n",
    "\n",
    "                for cases in list(case_dict.keys()):\n",
    "                    if len(case_dict[cases]) >prefix:\n",
    "                        if case_dict[cases][prefix].grace_updated ==False:\n",
    "                            case_dict[cases][prefix].encoded = utils.readjustment_training(case_dict[cases][prefix].encoded, feature_matrix['prefix_%s'%(prefix+1)])\n",
    "                        \n",
    "                        case_dict[cases][prefix].update_grace_status(True)\n",
    "                        x_test = case_dict[cases][prefix].encoded\n",
    "                        y_pred = model.predict_one(x_test)\n",
    "                        case_dict[cases][prefix].update_prediction((trainset_prefix['prefix_%s'%(prefix+1)][2], y_pred))\n",
    "            resultdict[caseid] = case_dict.pop(caseid)\n",
    "\n",
    "    if casecount > 200 and rowcounter%1000 == 0:\n",
    "        for prefix in trainset_prefix.keys():\n",
    "            model = trainset_prefix[prefix][0]\n",
    "            if prefix not in list(acc_dict.keys()):\n",
    "                acc_dict[prefix]=[trainset_prefix[prefix][1].get()]\n",
    "            else:\n",
    "                acc_dict[prefix].append(trainset_prefix[prefix][1].get())\n",
    "            outputfile = './%s/%s.png'%(prefix, round(rowcounter*100/totallength,2))\n",
    "            utils.save_graph_as_png(model.draw(),outputfile)\n"
   ]
  },
  {
   "cell_type": "code",
   "execution_count": 6,
   "metadata": {},
   "outputs": [
    {
     "name": "stdout",
     "output_type": "stream",
     "text": [
      "[0.6, 0.5855513307984791, 0.5742574257425742, 0.5996592844974447, 0.5936199722607489, 0.584, 0.5863586358635864, 0.5733197556008147, 0.5597826086956522, 0.5408163265306123, 0.5306397306397307, 0.5124620060790274, 0.5107675317504141, 0.49483521888834237, 0.484360625574977, 0.47890295358649787, 0.4744218640504555, 0.4584717607973422, 0.4915555555555556]\n",
      "[0.635036496350365, 0.6209677419354839, 0.6057441253263708, 0.6281138790035588, 0.6286549707602339, 0.6136363636363636, 0.6149425287356322, 0.6017039403620873, 0.5880681818181818, 0.5667485667485668, 0.5558678847505271, 0.5364616360177552, 0.5345622119815668, 0.5171706817016914, 0.5047846889952153, 0.49890302764370337, 0.4914824211670895, 0.4723646723646724, 0.40597219056302714]\n",
      "[0.875, 0.8359788359788359, 0.8054607508532423, 0.8206896551724138, 0.8169811320754717, 0.8037383177570093, 0.804185351270553, 0.8011283497884344, 0.7936305732484077, 0.7815315315315315, 0.7812807881773399, 0.7808471454880295, 0.7769423558897243, 0.770579268292683, 0.7688953488372093, 0.759493670886076, 0.7541620421753608, 0.7536297640653358, 0.7420965058236273]\n"
     ]
    }
   ],
   "source": [
    "for prefix in acc_dict.keys():\n",
    "    print(acc_dict[prefix])"
   ]
  },
  {
   "cell_type": "code",
   "execution_count": 7,
   "metadata": {},
   "outputs": [],
   "source": [
    "import matplotlib.pyplot as plt"
   ]
  },
  {
   "cell_type": "code",
   "execution_count": 8,
   "metadata": {},
   "outputs": [
    {
     "data": {
      "image/png": "[encoded data removed]",
      "text/plain": [
       "<Figure size 432x288 with 1 Axes>"
      ]
     },
     "metadata": {
      "needs_background": "light"
     },
     "output_type": "display_data"
    }
   ],
   "source": [
    "for prefix in acc_dict.keys():\n",
    "    plt.plot(range(len(acc_dict[prefix])), acc_dict[prefix],label='prefix_%s'%(prefix))\n",
    "plt.legend()\n",
    "plt.show()"
   ]
  },
  {
   "cell_type": "code",
   "execution_count": 9,
   "metadata": {},
   "outputs": [
    {
     "name": "stdout",
     "output_type": "stream",
     "text": [
      "{'Cancelled', 'Accepted'}\n",
      "{'Accepted'}\n",
      "{'Accepted'}\n",
      "Accepted\n"
     ]
    }
   ],
   "source": [
    "print(set(resultdict['Offer_1177178664'][1].predicted.values()))\n",
    "print(set(resultdict['Offer_1177178664'][2].predicted.values()))\n",
    "print(set(resultdict['Offer_1177178664'][3].predicted.values()))\n",
    "\n",
    "print(resultdict['Offer_1177178664'][1].true_label)"
   ]
  },
  {
   "cell_type": "code",
   "execution_count": 10,
   "metadata": {},
   "outputs": [
    {
     "name": "stdout",
     "output_type": "stream",
     "text": [
      "{'prefix_2': [HoeffdingTreeClassifier (\n",
      "  grace_period=200\n",
      "  max_depth=inf\n",
      "  split_criterion=\"info_gain\"\n",
      "  split_confidence=1e-07\n",
      "  tie_threshold=0.05\n",
      "  leaf_prediction=\"nba\"\n",
      "  nb_threshold=0\n",
      "  nominal_attributes=None\n",
      "  attr_obs=\"gaussian\"\n",
      "  attr_obs_params={}\n",
      "), Accuracy: 51.83%, 4901], 'prefix_3': [HoeffdingTreeClassifier (\n",
      "  grace_period=200\n",
      "  max_depth=inf\n",
      "  split_criterion=\"info_gain\"\n",
      "  split_confidence=1e-07\n",
      "  tie_threshold=0.05\n",
      "  leaf_prediction=\"nba\"\n",
      "  nb_threshold=0\n",
      "  nominal_attributes=None\n",
      "  attr_obs=\"gaussian\"\n",
      "  attr_obs_params={}\n",
      "), Accuracy: 38.57%, 4786], 'prefix_4': [HoeffdingTreeClassifier (\n",
      "  grace_period=200\n",
      "  max_depth=inf\n",
      "  split_criterion=\"info_gain\"\n",
      "  split_confidence=1e-07\n",
      "  tie_threshold=0.05\n",
      "  leaf_prediction=\"nba\"\n",
      "  nb_threshold=0\n",
      "  nominal_attributes=None\n",
      "  attr_obs=\"gaussian\"\n",
      "  attr_obs_params={}\n",
      "), Accuracy: 73.67%, 2510]}\n"
     ]
    }
   ],
   "source": [
    "print(trainset_prefix)"
   ]
  },
  {
   "cell_type": "code",
   "execution_count": 11,
   "metadata": {},
   "outputs": [
    {
     "name": "stdout",
     "output_type": "stream",
     "text": [
      "Accuracy: 74.21%\n"
     ]
    }
   ],
   "source": [
    "import numpy as np\n",
    "testcases =[]\n",
    "testpred = []\n",
    "testtrue = []\n",
    "for cases in (np.random.choice(list(resultdict.keys()), 1500)):\n",
    "    if len(resultdict[cases])>3:\n",
    "        y_pred = trainset_prefix['prefix_4'][0].predict_one(resultdict[cases][3].encoded)\n",
    "        testpred.append(y_pred)\n",
    "        testtrue.append(resultdict[cases][3].true_label)\n",
    "metric = metrics.Accuracy()\n",
    "\n",
    "for yt,yp in zip(testtrue,testpred):\n",
    "    metric = metric.update(yt,yp)\n",
    "print(metric)"
   ]
  }
 ],
 "metadata": {
  "kernelspec": {
   "display_name": "Python 3",
   "language": "python",
   "name": "python3"
  },
  "language_info": {
   "codemirror_mode": {
    "name": "ipython",
    "version": 3
   },
   "file_extension": ".py",
   "mimetype": "text/x-python",
   "name": "python",
   "nbconvert_exporter": "python",
   "pygments_lexer": "ipython3",
   "version": "3.8.7"
  }
 },
 "nbformat": 4,
 "nbformat_minor": 2
}
