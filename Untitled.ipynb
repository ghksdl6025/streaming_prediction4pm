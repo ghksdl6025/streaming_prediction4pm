{
 "cells": [
  {
   "cell_type": "code",
   "execution_count": 6,
   "id": "hazardous-coating",
   "metadata": {},
   "outputs": [],
   "source": [
    "from river import stream,tree,metrics\n",
    "import utils\n",
    "import datetime\n",
    "from encoding import prefix_bin\n",
    "import csv\n",
    "import copy\n",
    "import time"
   ]
  },
  {
   "cell_type": "code",
   "execution_count": 7,
   "id": "searching-training",
   "metadata": {},
   "outputs": [],
   "source": [
    "dataset = stream.iter_csv(\n",
    "            './data/bac_online_small.csv',\n",
    "            )\n",
    "\n",
    "totallength = len(list(dataset))"
   ]
  },
  {
   "cell_type": "code",
   "execution_count": 8,
   "id": "furnished-blind",
   "metadata": {},
   "outputs": [],
   "source": [
    "dataset = stream.iter_csv(\n",
    "            './data/bac_online_small.csv',\n",
    "            drop=['END_DATE','ROLE','CLOSURE_TYPE','CLOSURE_REASON','WORKING_STATE','case_cost'],\n",
    "            target='outcome'\n",
    "            )"
   ]
  },
  {
   "cell_type": "markdown",
   "id": "likely-tumor",
   "metadata": {},
   "source": [
    "**Event stream entry**  \n",
    "----------  \n",
    "**Example 1)**  \n",
    "({'REQUEST_ID': '20175000168',  \n",
    "  'ACTIVITY': 'Service closure Request with network responsibility',  \n",
    "  'START_DATE': '2018-10-10 12:48:12.000',  \n",
    "  'CE_UO': '1'},  \n",
    " '')  \n",
    "   \n",
    "**Example 2)**  \n",
    "({'REQUEST_ID': '20175000168',  \n",
    "  'ACTIVITY': 'Request completed with account closure',  \n",
    "  'START_DATE': '2018-10-17 03:03:11.000',  \n",
    "  'CE_UO': 'BOF'},  \n",
    " 'False')"
   ]
  },
  {
   "cell_type": "code",
   "execution_count": 9,
   "id": "portable-warrior",
   "metadata": {},
   "outputs": [],
   "source": [
    "key_pair = {\n",
    "        'REQUEST_ID':'caseid',\n",
    "        'ACTIVITY':'activity',\n",
    "        'START_DATE':'ts',\n",
    "        'CE_UO':'resource'\n",
    "}\n",
    "\n",
    "case_dict ={}\n",
    "training_models ={}\n",
    "feature_matrix ={}\n",
    "casecount = 0\n",
    "rowcounter = 0\n",
    "resultdict ={}\n",
    "acc_dict ={}\n",
    "finishedcases = set()\n",
    "running_case = 0\n",
    "prediction_result = {}"
   ]
  },
  {
   "cell_type": "code",
   "execution_count": 10,
   "id": "respiratory-router",
   "metadata": {},
   "outputs": [
    {
     "name": "stdout",
     "output_type": "stream",
     "text": [
      "0.0 % Case finished: 0 Running case: 0\n",
      "1.65 % Case finished: 4 Running case: 167\n",
      "3.29 % Case finished: 4 Running case: 310\n",
      "4.94 % Case finished: 4 Running case: 428\n",
      "6.59 % Case finished: 45 Running case: 547\n",
      "8.23 % Case finished: 62 Running case: 604\n",
      "9.88 % Case finished: 153 Running case: 658\n",
      "11.52 % Case finished: 297 Running case: 617\n",
      "13.17 % Case finished: 410 Running case: 571\n",
      "14.82 % Case finished: 457 Running case: 597\n",
      "16.46 % Case finished: 546 Running case: 578\n",
      "18.11 % Case finished: 655 Running case: 524\n",
      "19.76 % Case finished: 738 Running case: 522\n",
      "21.4 % Case finished: 750 Running case: 631\n",
      "23.05 % Case finished: 781 Running case: 670\n",
      "24.7 % Case finished: 908 Running case: 579\n",
      "26.34 % Case finished: 1028 Running case: 518\n",
      "27.99 % Case finished: 1101 Running case: 520\n",
      "29.63 % Case finished: 1176 Running case: 512\n",
      "31.28 % Case finished: 1237 Running case: 514\n",
      "32.93 % Case finished: 1346 Running case: 469\n",
      "34.57 % Case finished: 1436 Running case: 449\n",
      "36.22 % Case finished: 1503 Running case: 499\n",
      "37.87 % Case finished: 1530 Running case: 593\n",
      "39.51 % Case finished: 1558 Running case: 639\n",
      "41.16 % Case finished: 1677 Running case: 585\n",
      "42.81 % Case finished: 1760 Running case: 555\n",
      "44.45 % Case finished: 1839 Running case: 550\n",
      "46.1 % Case finished: 1896 Running case: 559\n",
      "47.74 % Case finished: 1997 Running case: 526\n",
      "49.39 % Case finished: 2072 Running case: 516\n",
      "51.04 % Case finished: 2156 Running case: 502\n",
      "52.68 % Case finished: 2256 Running case: 494\n",
      "54.33 % Case finished: 2280 Running case: 559\n",
      "55.98 % Case finished: 2358 Running case: 540\n",
      "57.62 % Case finished: 2497 Running case: 463\n",
      "59.27 % Case finished: 2561 Running case: 480\n",
      "60.92 % Case finished: 2615 Running case: 503\n",
      "62.56 % Case finished: 2707 Running case: 500\n",
      "64.21 % Case finished: 2769 Running case: 502\n",
      "65.85 % Case finished: 2919 Running case: 397\n",
      "67.5 % Case finished: 2959 Running case: 482\n",
      "69.15 % Case finished: 2977 Running case: 572\n",
      "70.79 % Case finished: 3010 Running case: 627\n",
      "72.44 % Case finished: 3107 Running case: 581\n",
      "74.09 % Case finished: 3202 Running case: 542\n",
      "75.73 % Case finished: 3352 Running case: 464\n",
      "77.38 % Case finished: 3381 Running case: 516\n",
      "79.03 % Case finished: 3448 Running case: 522\n",
      "80.67 % Case finished: 3561 Running case: 497\n",
      "82.32 % Case finished: 3621 Running case: 497\n",
      "83.96 % Case finished: 3693 Running case: 490\n",
      "85.61 % Case finished: 3783 Running case: 460\n",
      "87.26 % Case finished: 3868 Running case: 458\n",
      "88.9 % Case finished: 3933 Running case: 510\n",
      "90.55 % Case finished: 3951 Running case: 565\n",
      "92.2 % Case finished: 4005 Running case: 565\n",
      "93.84 % Case finished: 4169 Running case: 449\n",
      "95.49 % Case finished: 4278 Running case: 403\n",
      "97.14 % Case finished: 4323 Running case: 416\n",
      "98.78 % Case finished: 4460 Running case: 327\n"
     ]
    }
   ],
   "source": [
    "for x,y in dataset:\n",
    "    if rowcounter%500 == 0:\n",
    "        print(round(rowcounter*100/totallength,2) ,'%', 'Case finished: %s'%(casecount), 'Running case: %s'%(running_case))\n",
    "    rowcounter +=1\n",
    "    # Event stream change dictionary keys\n",
    "    x = utils.dictkey_chg(x, key_pair)\n",
    "#     x['ts'] = x['ts'][:-4]\n",
    "    # Check label possible\n",
    "    # x = utils.set_label(x)\n",
    "    x['outcome'] =y \n",
    "    # Initialize case by prefix length\n",
    "    caseid = x['caseid']\n",
    "    outcome = x['outcome']\n",
    "#     progress = x['progress']\n",
    "\n",
    "    x.pop('caseid')\n",
    "    x.pop('outcome')\n",
    "#     x.pop('progress')\n",
    "\n",
    "    case_bin = prefix_bin(caseid, x)\n",
    "\n",
    "    if caseid not in list(case_dict.keys()):\n",
    "        case_bin.set_prefix_length(1)    \n",
    "        case_dict[caseid] = []\n",
    "        running_case +=1\n",
    "    elif caseid in finishedcases:\n",
    "        pass\n",
    "    else:\n",
    "        case_bin.set_prefix_length(len(case_dict[caseid])+1)\n",
    "        case_bin.set_prev_enc(case_dict[caseid][-1])\n",
    "    \n",
    "    # Encode event and cases and add to DB\n",
    "    case_bin.update_truelabel(outcome)   \n",
    "    case_bin.update_encoded()\n",
    "    case_dict[caseid].append(case_bin)\n",
    "    \n",
    "    # Detect label appeared case \n",
    "    if outcome != '' and caseid not in finishedcases:\n",
    "        finishedcases.add(caseid)\n",
    "        # Adding newly finished case to training set.    \n",
    "        casecount +=1\n",
    "        # Grace period to collect feature matrix\n",
    "        if casecount <200:\n",
    "            case_length = len(case_dict[caseid])\n",
    "            for prefix in range(1, case_length):\n",
    "                if 'prefix_%s'%(prefix+1) not in list(feature_matrix.keys()):\n",
    "                    feature_matrix['prefix_%s'%(prefix+1)]=set()\n",
    "                    # Initialize classifier and performance matrix and updating count\n",
    "                    training_models['prefix_%s'%(prefix+1)] = [tree.ExtremelyFastDecisionTreeClassifier(grace_period=100,split_criterion='info_gain'),metrics.Accuracy(), 0]\n",
    "                feature_list = list(case_dict[caseid][prefix].encoded.keys())\n",
    "                for x in feature_list: feature_matrix['prefix_%s'%(prefix+1)].add(x) \n",
    "            case_dict.pop(caseid)               \n",
    "\n",
    "        # Real training start\n",
    "        else:\n",
    "            # Modify encoded attributes of cases with feature matrix\n",
    "            case_length = len(case_dict[caseid])\n",
    "            if case_length >10:\n",
    "                case_length =10\n",
    "            y = outcome\n",
    "            for prefix in range(1, case_length):\n",
    "                case_dict[caseid][prefix].update_truelabel(y)\n",
    "                if case_dict[caseid][prefix].grace_updated == False:\n",
    "                    case_dict[caseid][prefix].encoded = utils.readjustment_training(case_dict[caseid][prefix].encoded, feature_matrix['prefix_%s'%(prefix+1)])\n",
    "                    case_dict[caseid][prefix].update_grace_status(True)\n",
    "                x = case_dict[caseid][prefix].encoded\n",
    "                model = training_models['prefix_%s'%(prefix+1)][0]\n",
    "                model.learn_one(x,y)\n",
    "                training_models['prefix_%s'%(prefix+1)][2] +=1\n",
    "                y_pred = model.predict_one(x)\n",
    "                training_models['prefix_%s'%(prefix+1)][1].update(y,y_pred)\n",
    "\n",
    "                for cases in list(case_dict.keys()):\n",
    "                    if len(case_dict[cases]) >prefix:\n",
    "                        if case_dict[cases][prefix].grace_updated ==False:\n",
    "                            case_dict[cases][prefix].encoded = utils.readjustment_training(case_dict[cases][prefix].encoded, feature_matrix['prefix_%s'%(prefix+1)])\n",
    "                            case_dict[cases][prefix].update_grace_status(True)\n",
    "                        x_test = case_dict[cases][prefix].encoded\n",
    "                        y_pred = model.predict_one(x_test)\n",
    "                        modelid,pred_value = copy.deepcopy(training_models['prefix_%s'%(prefix+1)][2]), copy.deepcopy(y_pred)\n",
    "                        case_dict[cases][prefix].update_prediction((modelid, pred_value))\n",
    "                        prediction_key = str(cases)+'_'+str(prefix)\n",
    "                        if prediction_key not in prediction_result.keys():\n",
    "                            prediction_result[prediction_key] = {}\n",
    "                            prediction_result[prediction_key][modelid] = (pred_value,time.time())\n",
    "                        else:\n",
    "                            prediction_result[prediction_key][modelid] = (pred_value,time.time())\n",
    "            copying = copy.deepcopy(case_dict[caseid])\n",
    "            resultdict[caseid] = copying\n",
    "            # case_dict[caseid] =[]\n",
    "            running_case -=1\n",
    "            for prefix in training_models.keys():\n",
    "                if prefix not in list(acc_dict.keys()):\n",
    "                    acc_dict[prefix]=[training_models[prefix][1].get()]\n",
    "                else:\n",
    "                    acc_dict[prefix].append(training_models[prefix][1].get())\n"
   ]
  },
  {
   "cell_type": "code",
   "execution_count": 11,
   "id": "interracial-distributor",
   "metadata": {},
   "outputs": [
    {
     "data": {
      "image/png": "[encoded data removed]",
      "text/plain": [
       "<Figure size 432x288 with 1 Axes>"
      ]
     },
     "metadata": {
      "needs_background": "light"
     },
     "output_type": "display_data"
    }
   ],
   "source": [
    "import matplotlib.pyplot as plt\n",
    "for t in list(acc_dict.keys())[:9]:\n",
    "    plt.plot(acc_dict[t], label=str(t))\n",
    "    plt.legend(ncol=2,loc='lower right')\n",
    "plt.title('Accuracy update with finished case by prefix length')\n",
    "plt.ylabel('Accuracy')\n",
    "plt.xlabel('Finished cases')\n",
    "plt.show()"
   ]
  },
  {
   "cell_type": "code",
   "execution_count": null,
   "id": "marked-billy",
   "metadata": {},
   "outputs": [],
   "source": [
    "for m in training_models.keys():\n",
    "    print(m, training_models[m][2])"
   ]
  },
  {
   "cell_type": "code",
   "execution_count": null,
   "id": "sought-winter",
   "metadata": {},
   "outputs": [],
   "source": [
    "for case in resultdict.keys():\n",
    "    print(resultdict[case][-2].predicted)"
   ]
  },
  {
   "cell_type": "code",
   "execution_count": 12,
   "id": "applied-audio",
   "metadata": {
    "scrolled": true
   },
   "outputs": [
    {
     "ename": "KeyError",
     "evalue": "'201711005290_2'",
     "output_type": "error",
     "traceback": [
      "\u001b[0;31m---------------------------------------------------------------------------\u001b[0m",
      "\u001b[0;31mKeyError\u001b[0m                                  Traceback (most recent call last)",
      "\u001b[0;32m<ipython-input-12-358d128f48d2>\u001b[0m in \u001b[0;36m<module>\u001b[0;34m\u001b[0m\n\u001b[1;32m      4\u001b[0m \u001b[0;31m#     checklist.append(t)\u001b[0m\u001b[0;34m\u001b[0m\u001b[0;34m\u001b[0m\u001b[0;34m\u001b[0m\u001b[0m\n\u001b[1;32m      5\u001b[0m \u001b[0;31m#     print(t)\u001b[0m\u001b[0;34m\u001b[0m\u001b[0;34m\u001b[0m\u001b[0;34m\u001b[0m\u001b[0m\n\u001b[0;32m----> 6\u001b[0;31m \u001b[0mprint\u001b[0m\u001b[0;34m(\u001b[0m\u001b[0;34m[\u001b[0m\u001b[0mx\u001b[0m\u001b[0;34m[\u001b[0m\u001b[0;36m1\u001b[0m\u001b[0;34m]\u001b[0m \u001b[0;32mfor\u001b[0m \u001b[0mx\u001b[0m \u001b[0;32min\u001b[0m \u001b[0mprediction_result\u001b[0m\u001b[0;34m[\u001b[0m\u001b[0;34m'201711005290_2'\u001b[0m\u001b[0;34m]\u001b[0m\u001b[0;34m.\u001b[0m\u001b[0mvalues\u001b[0m\u001b[0;34m(\u001b[0m\u001b[0;34m)\u001b[0m\u001b[0;34m]\u001b[0m\u001b[0;34m[\u001b[0m\u001b[0;34m:\u001b[0m\u001b[0;36m10\u001b[0m\u001b[0;34m]\u001b[0m\u001b[0;34m)\u001b[0m\u001b[0;34m\u001b[0m\u001b[0;34m\u001b[0m\u001b[0m\n\u001b[0m\u001b[1;32m      7\u001b[0m \u001b[0mprint\u001b[0m\u001b[0;34m(\u001b[0m\u001b[0;34m'----------'\u001b[0m\u001b[0;34m)\u001b[0m\u001b[0;34m\u001b[0m\u001b[0;34m\u001b[0m\u001b[0m\n\u001b[1;32m      8\u001b[0m \u001b[0mprint\u001b[0m\u001b[0;34m(\u001b[0m\u001b[0;34m[\u001b[0m\u001b[0mx\u001b[0m\u001b[0;34m[\u001b[0m\u001b[0;36m1\u001b[0m\u001b[0;34m]\u001b[0m \u001b[0;32mfor\u001b[0m \u001b[0mx\u001b[0m \u001b[0;32min\u001b[0m \u001b[0mprediction_result\u001b[0m\u001b[0;34m[\u001b[0m\u001b[0;34m'201711005290_3'\u001b[0m\u001b[0;34m]\u001b[0m\u001b[0;34m.\u001b[0m\u001b[0mvalues\u001b[0m\u001b[0;34m(\u001b[0m\u001b[0;34m)\u001b[0m\u001b[0;34m]\u001b[0m\u001b[0;34m[\u001b[0m\u001b[0;34m:\u001b[0m\u001b[0;36m10\u001b[0m\u001b[0;34m]\u001b[0m\u001b[0;34m)\u001b[0m\u001b[0;34m\u001b[0m\u001b[0;34m\u001b[0m\u001b[0m\n",
      "\u001b[0;31mKeyError\u001b[0m: '201711005290_2'"
     ]
    }
   ],
   "source": [
    "# checklist= []\n",
    "# for t in sorted(prediction_result.keys()):\n",
    "# #     if int(t.split('_')[1]) >=6:\n",
    "#     checklist.append(t)\n",
    "#     print(t)\n",
    "print([x[1] for x in prediction_result['201711005290_2'].values()][:10])\n",
    "print('----------')\n",
    "print([x[1] for x in prediction_result['201711005290_3'].values()][:10])\n",
    "# for e in checklist[:10]:\n",
    "#     print(e,set(prediction_result[e].values()))\n",
    "# for e in sorted(prediction_result.keys())[-100:]:\n",
    "#     print(e,prediction_result[e])"
   ]
  },
  {
   "cell_type": "code",
   "execution_count": null,
   "id": "deluxe-aquatic",
   "metadata": {
    "scrolled": false
   },
   "outputs": [],
   "source": [
    "import numpy as np\n",
    "from sklearn.metrics import classification_report\n",
    "for t in range(2,11):\n",
    "    testcases =[]\n",
    "    testpred = []\n",
    "    testtrue = []\n",
    "\n",
    "    print('prefix_%s'%(t))\n",
    "    for cases in (np.random.choice(list(resultdict.keys()), 1500)):\n",
    "        if len(resultdict[cases])>t:\n",
    "            y_pred = training_models['prefix_%s'%(t+1)][0].predict_one(resultdict[cases][t].encoded)\n",
    "            testpred.append(y_pred)\n",
    "            testtrue.append(resultdict[cases][t].true_label)\n",
    "    metric = metrics.Accuracy()\n",
    "    cm = metrics.ConfusionMatrix()\n",
    "    for yt,yp in zip(testtrue,testpred):\n",
    "        metric = metric.update(yt,yp)\n",
    "        cm = cm.update(yt,yp)\n",
    "    print(metric)\n",
    "    print(cm)\n",
    "    print(classification_report(testtrue,testpred))"
   ]
  }
 ],
 "metadata": {
  "kernelspec": {
   "display_name": "Python 3",
   "language": "python",
   "name": "python3"
  },
  "language_info": {
   "codemirror_mode": {
    "name": "ipython",
    "version": 3
   },
   "file_extension": ".py",
   "mimetype": "text/x-python",
   "name": "python",
   "nbconvert_exporter": "python",
   "pygments_lexer": "ipython3",
   "version": "3.8.7"
  }
 },
 "nbformat": 4,
 "nbformat_minor": 5
}
