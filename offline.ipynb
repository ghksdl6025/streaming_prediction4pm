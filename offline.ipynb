{
 "cells": [
  {
   "cell_type": "code",
   "execution_count": 26,
   "metadata": {},
   "outputs": [],
   "source": [
    "import pandas as pd\n",
    "from sklearn.tree import DecisionTreeClassifier\n",
    "from sklearn.model_selection import train_test_split\n",
    "from sklearn.metrics import classification_report\n",
    "import utils\n",
    "import numpy as np\n",
    "from sklearn import tree\n",
    "import matplotlib.pyplot as plt"
   ]
  },
  {
   "cell_type": "code",
   "execution_count": 27,
   "metadata": {},
   "outputs": [],
   "source": [
    "def filter_by_prefix(df,prefix):\n",
    "    '''\n",
    "    Filter case by prefix length\n",
    "    \n",
    "    Parameters\n",
    "    ----------\n",
    "    df : pandas dataframe\n",
    "        Assigned dataframe to slice by prefix length\n",
    "    \n",
    "    prefix : int\n",
    "        Prefix length to slice to cases in fixed length\n",
    "    \n",
    "    Returns\n",
    "    ----------\n",
    "    Return dataframe with sliced cases\n",
    "    '''\n",
    "    df['ts'] = pd.to_datetime(df['ts'])\n",
    "    groups = df.groupby('caseid')\n",
    "    encoded_df=[]\n",
    "    for case,group in groups: \n",
    "        group = group.reset_index(drop=True)\n",
    "        if len(group)>prefix:\n",
    "            group = group.loc[:prefix-1,:]\n",
    "            encoded_df.append(group)\n",
    "    return pd.concat(encoded_df)"
   ]
  },
  {
   "cell_type": "code",
   "execution_count": 28,
   "metadata": {},
   "outputs": [],
   "source": [
    "def aggregation_encoding(df, prefix):\n",
    "    '''\n",
    "    Aggregation encoding\n",
    "    \n",
    "    Parameters\n",
    "    ----------\n",
    "    df : pandas dataframe\n",
    "        Assigned dataframe to encode for outcome prediction\n",
    "    \n",
    "    prefix : int\n",
    "        Prefix length to slice to cases in fixed length\n",
    "    \n",
    "    Returns\n",
    "    ----------\n",
    "    Return dataframe encoded in aggregation method\n",
    "    '''\n",
    "    df = filter_by_prefix(df,prefix)\n",
    "    df['ts'] = pd.to_datetime(df['ts'])\n",
    "    groups = df.groupby('caseid')\n",
    "    encoded_df=[]\n",
    "    for case,group in groups: \n",
    "        group = group.reset_index(drop=True)\n",
    "        outcome = set(group['outcome']).pop()\n",
    "        cumdurationlist = [(x - list(group['ts'])[0]).total_seconds() for x in list(group['ts'])]\n",
    "        case_time_outcome = {'caseid':case, 'ts':np.mean(cumdurationlist),'outcome':outcome}\n",
    "        activity_count = {x: list(group['activity']).count(x) for x in set(group['activity'])}\n",
    "        resource_count = {x: list(group['resource']).count(x) for x in set(group['resource'])}\n",
    "\n",
    "        case_time_outcome.update(activity_count)\n",
    "        case_time_outcome.update(resource_count)\n",
    "        dfk = pd.DataFrame.from_dict([case_time_outcome])\n",
    "        encoded_df.append(dfk)\n",
    "    concated_df = pd.concat(encoded_df)\n",
    "    concated_df = concated_df.fillna(0)\n",
    "    return concated_df"
   ]
  },
  {
   "cell_type": "code",
   "execution_count": 29,
   "metadata": {},
   "outputs": [],
   "source": [
    "def indexbase_encoding(df, prefix):\n",
    "    '''\n",
    "    Indexbase encoding\n",
    "    \n",
    "    Parameters\n",
    "    ----------\n",
    "    df : pandas dataframe\n",
    "        Assigned dataframe to encode for outcome prediction\n",
    "    \n",
    "    prefix : int\n",
    "        Prefix length to slice to cases in fixed length\n",
    "    \n",
    "    Returns\n",
    "    ----------\n",
    "    Return dataframe encoded in indexbase method\n",
    "    '''\n",
    "    df = filter_by_prefix(df,prefix)\n",
    "    df['ts'] = pd.to_datetime(df['ts'])\n",
    "    groups = df.groupby('caseid')\n",
    "    encoded_df=[]\n",
    "    for case,group in groups: \n",
    "        activitylist = list(group['activity'])\n",
    "        resourcelist = list(group['resource'])\n",
    "        group = group.reset_index(drop=True)\n",
    "        outcome = set(group['outcome']).pop()\n",
    "        cumdurationlist = [(x - list(group['ts'])[0]).total_seconds() for x in list(group['ts'])]\n",
    "        cumduration_index ={'Cumduration_'+str(x+1): cumdurationlist[x] for x in range(len(cumdurationlist))}\n",
    "        case_outcome = {'caseid':case, 'outcome':outcome}\n",
    "        activity_index = {'activity_'+str(x+1)+'_'+activitylist[x]: 1 for x in range(len(activitylist))}\n",
    "        resource_index = {'resource_'+str(x+1)+'_'+str(resourcelist[x]): 1 for x in range(len(resourcelist))}\n",
    "        case_outcome.update(cumduration_index)\n",
    "        case_outcome.update(activity_index)\n",
    "        case_outcome.update(resource_index)\n",
    "        dfk = pd.DataFrame.from_dict([case_outcome])\n",
    "        encoded_df.append(dfk)\n",
    "    concated_df = pd.concat(encoded_df)\n",
    "    concated_df = concated_df.fillna(0)\n",
    "    return concated_df"
   ]
  },
  {
   "cell_type": "code",
   "execution_count": 30,
   "metadata": {},
   "outputs": [],
   "source": [
    "df = pd.read_csv('./data/bac_offline_small.csv')\n",
    "df['START_DATE'] = pd.to_datetime(df['START_DATE'])\n",
    "df = df.rename(columns={'REQUEST_ID':'caseid','ACTIVITY':'activity','START_DATE':'ts','CE_UO':'resource'})\n",
    "df = df.loc[:,['caseid','activity','ts','resource','outcome']]\n",
    "groups = df.groupby('caseid')\n",
    "reconcatenate =[]\n",
    "dfn = df"
   ]
  },
  {
   "cell_type": "code",
   "execution_count": 31,
   "metadata": {},
   "outputs": [],
   "source": [
    "adf5 = aggregation_encoding(dfn,5)\n",
    "idf5 = indexbase_encoding(dfn,5)"
   ]
  },
  {
   "cell_type": "code",
   "execution_count": 32,
   "metadata": {},
   "outputs": [],
   "source": [
    "adf6 = aggregation_encoding(dfn,6)\n",
    "idf6 = indexbase_encoding(dfn,6)"
   ]
  },
  {
   "cell_type": "code",
   "execution_count": 33,
   "metadata": {},
   "outputs": [],
   "source": [
    "adf7 = aggregation_encoding(dfn,7)\n",
    "idf7 = indexbase_encoding(dfn,7)"
   ]
  },
  {
   "cell_type": "code",
   "execution_count": 34,
   "metadata": {},
   "outputs": [],
   "source": [
    "adf8 = aggregation_encoding(dfn,8)\n",
    "idf8 = indexbase_encoding(dfn,8)"
   ]
  },
  {
   "cell_type": "code",
   "execution_count": 35,
   "metadata": {},
   "outputs": [],
   "source": [
    "adf9 = aggregation_encoding(dfn,9)\n",
    "idf9 = indexbase_encoding(dfn,9)"
   ]
  },
  {
   "cell_type": "code",
   "execution_count": 36,
   "metadata": {},
   "outputs": [],
   "source": [
    "adf10 = aggregation_encoding(dfn,10)\n",
    "idf10 = indexbase_encoding(dfn,10)"
   ]
  },
  {
   "cell_type": "code",
   "execution_count": 37,
   "metadata": {},
   "outputs": [
    {
     "name": "stdout",
     "output_type": "stream",
     "text": [
      "BAC aggregation encoding with prefix length 5\n",
      "Decision Tree\n",
      "              precision    recall  f1-score   support\n",
      "\n",
      "       False       0.94      0.98      0.96      1081\n",
      "        True       0.58      0.32      0.42        99\n",
      "\n",
      "    accuracy                           0.92      1180\n",
      "   macro avg       0.76      0.65      0.69      1180\n",
      "weighted avg       0.91      0.92      0.91      1180\n",
      "\n",
      "BAC index encoding with prefix length 5\n",
      "Decision Tree\n",
      "              precision    recall  f1-score   support\n",
      "\n",
      "       False       0.94      0.98      0.96      1082\n",
      "        True       0.62      0.34      0.44        98\n",
      "\n",
      "    accuracy                           0.93      1180\n",
      "   macro avg       0.78      0.66      0.70      1180\n",
      "weighted avg       0.92      0.93      0.92      1180\n",
      "\n"
     ]
    }
   ],
   "source": [
    "print('BAC aggregation encoding with prefix length 5')\n",
    "y = adf5['outcome']\n",
    "x =adf5.drop(columns=['outcome','caseid'],axis=1)\n",
    "x_train,x_test,y_train,y_test = train_test_split(x,y, test_size=0.3)\n",
    "\n",
    "# Deicision tree result\n",
    "print('Decision Tree')\n",
    "dt = DecisionTreeClassifier(criterion='entropy', max_depth=5).fit(x_train,y_train)\n",
    "y_pred = dt.predict(x_test)\n",
    "print(classification_report(y_test,y_pred))\n",
    "\n",
    "print('BAC index encoding with prefix length 5')\n",
    "y = idf5['outcome']\n",
    "x =idf5.drop(columns=['outcome','caseid'],axis=1)\n",
    "x_train,x_test,y_train,y_test = train_test_split(x,y, test_size=0.3)\n",
    "\n",
    "# Deicision tree result\n",
    "print('Decision Tree')\n",
    "dt = DecisionTreeClassifier(criterion='entropy', max_depth=5).fit(x_train,y_train)\n",
    "y_pred = dt.predict(x_test)\n",
    "print(classification_report(y_test,y_pred))"
   ]
  },
  {
   "cell_type": "code",
   "execution_count": 38,
   "metadata": {},
   "outputs": [
    {
     "name": "stdout",
     "output_type": "stream",
     "text": [
      "BAC aggregation encoding with prefix length 6\n",
      "Decision Tree\n",
      "              precision    recall  f1-score   support\n",
      "\n",
      "       False       0.92      0.99      0.95       961\n",
      "        True       0.40      0.09      0.14        93\n",
      "\n",
      "    accuracy                           0.91      1054\n",
      "   macro avg       0.66      0.54      0.55      1054\n",
      "weighted avg       0.87      0.91      0.88      1054\n",
      "\n",
      "BAC index encoding with prefix length 6\n",
      "Decision Tree\n",
      "              precision    recall  f1-score   support\n",
      "\n",
      "       False       0.92      0.98      0.95       947\n",
      "        True       0.63      0.27      0.38       107\n",
      "\n",
      "    accuracy                           0.91      1054\n",
      "   macro avg       0.78      0.63      0.67      1054\n",
      "weighted avg       0.89      0.91      0.89      1054\n",
      "\n"
     ]
    }
   ],
   "source": [
    "print('BAC aggregation encoding with prefix length 6')\n",
    "y = adf6['outcome']\n",
    "x =adf6.drop(columns=['outcome','caseid'],axis=1)\n",
    "x_train,x_test,y_train,y_test = train_test_split(x,y, test_size=0.3)\n",
    "\n",
    "# Deicision tree result\n",
    "print('Decision Tree')\n",
    "dt = DecisionTreeClassifier(criterion='entropy', max_depth=5).fit(x_train,y_train)\n",
    "y_pred = dt.predict(x_test)\n",
    "print(classification_report(y_test,y_pred))\n",
    "\n",
    "print('BAC index encoding with prefix length 6')\n",
    "y = idf6['outcome']\n",
    "x =idf6.drop(columns=['outcome','caseid'],axis=1)\n",
    "x_train,x_test,y_train,y_test = train_test_split(x,y, test_size=0.3)\n",
    "\n",
    "# Deicision tree result\n",
    "print('Decision Tree')\n",
    "dt = DecisionTreeClassifier(criterion='entropy', max_depth=5).fit(x_train,y_train)\n",
    "y_pred = dt.predict(x_test)\n",
    "print(classification_report(y_test,y_pred))"
   ]
  },
  {
   "cell_type": "code",
   "execution_count": 39,
   "metadata": {},
   "outputs": [
    {
     "name": "stdout",
     "output_type": "stream",
     "text": [
      "BAC aggregation encoding with prefix length 7\n",
      "Decision Tree\n",
      "              precision    recall  f1-score   support\n",
      "\n",
      "       False       0.97      0.73      0.83        93\n",
      "        True       0.78      0.98      0.87        92\n",
      "\n",
      "    accuracy                           0.85       185\n",
      "   macro avg       0.88      0.85      0.85       185\n",
      "weighted avg       0.88      0.85      0.85       185\n",
      "\n",
      "BAC index encoding with prefix length 7\n",
      "Decision Tree\n",
      "              precision    recall  f1-score   support\n",
      "\n",
      "       False       0.97      0.79      0.87        87\n",
      "        True       0.84      0.98      0.91        98\n",
      "\n",
      "    accuracy                           0.89       185\n",
      "   macro avg       0.91      0.89      0.89       185\n",
      "weighted avg       0.90      0.89      0.89       185\n",
      "\n"
     ]
    }
   ],
   "source": [
    "print('BAC aggregation encoding with prefix length 7')\n",
    "y = adf7['outcome']\n",
    "x =adf7.drop(columns=['outcome','caseid'],axis=1)\n",
    "x_train,x_test,y_train,y_test = train_test_split(x,y, test_size=0.3)\n",
    "\n",
    "# Deicision tree result\n",
    "print('Decision Tree')\n",
    "dt = DecisionTreeClassifier(criterion='entropy', max_depth=5).fit(x_train,y_train)\n",
    "y_pred = dt.predict(x_test)\n",
    "print(classification_report(y_test,y_pred))\n",
    "\n",
    "print('BAC index encoding with prefix length 7')\n",
    "y = idf7['outcome']\n",
    "x =idf7.drop(columns=['outcome','caseid'],axis=1)\n",
    "x_train,x_test,y_train,y_test = train_test_split(x,y, test_size=0.3)\n",
    "\n",
    "# Deicision tree result\n",
    "print('Decision Tree')\n",
    "dt = DecisionTreeClassifier(criterion='entropy', max_depth=5).fit(x_train,y_train)\n",
    "y_pred = dt.predict(x_test)\n",
    "print(classification_report(y_test,y_pred))"
   ]
  },
  {
   "cell_type": "code",
   "execution_count": 40,
   "metadata": {},
   "outputs": [
    {
     "name": "stdout",
     "output_type": "stream",
     "text": [
      "BAC aggregation encoding with prefix length 8\n",
      "Decision Tree\n",
      "              precision    recall  f1-score   support\n",
      "\n",
      "       False       0.81      0.27      0.41        48\n",
      "        True       0.44      0.90      0.59        30\n",
      "\n",
      "    accuracy                           0.51        78\n",
      "   macro avg       0.62      0.59      0.50        78\n",
      "weighted avg       0.67      0.51      0.48        78\n",
      "\n",
      "BAC index encoding with prefix length 8\n",
      "Decision Tree\n",
      "              precision    recall  f1-score   support\n",
      "\n",
      "       False       0.88      0.52      0.66        42\n",
      "        True       0.62      0.92      0.74        36\n",
      "\n",
      "    accuracy                           0.71        78\n",
      "   macro avg       0.75      0.72      0.70        78\n",
      "weighted avg       0.76      0.71      0.70        78\n",
      "\n"
     ]
    }
   ],
   "source": [
    "print('BAC aggregation encoding with prefix length 8')\n",
    "y = adf8['outcome']\n",
    "x =adf8.drop(columns=['outcome','caseid'],axis=1)\n",
    "x_train,x_test,y_train,y_test = train_test_split(x,y, test_size=0.3)\n",
    "\n",
    "# Deicision tree result\n",
    "print('Decision Tree')\n",
    "dt = DecisionTreeClassifier(criterion='entropy', max_depth=5).fit(x_train,y_train)\n",
    "y_pred = dt.predict(x_test)\n",
    "print(classification_report(y_test,y_pred))\n",
    "\n",
    "print('BAC index encoding with prefix length 8')\n",
    "y = idf8['outcome']\n",
    "x =idf8.drop(columns=['outcome','caseid'],axis=1)\n",
    "x_train,x_test,y_train,y_test = train_test_split(x,y, test_size=0.3)\n",
    "\n",
    "# Deicision tree result\n",
    "print('Decision Tree')\n",
    "dt = DecisionTreeClassifier(criterion='entropy', max_depth=5).fit(x_train,y_train)\n",
    "y_pred = dt.predict(x_test)\n",
    "print(classification_report(y_test,y_pred))"
   ]
  },
  {
   "cell_type": "code",
   "execution_count": 41,
   "metadata": {},
   "outputs": [
    {
     "name": "stdout",
     "output_type": "stream",
     "text": [
      "BAC aggregation encoding with prefix length 9\n",
      "Decision Tree\n",
      "              precision    recall  f1-score   support\n",
      "\n",
      "       False       0.80      0.67      0.73        12\n",
      "        True       0.89      0.94      0.91        33\n",
      "\n",
      "    accuracy                           0.87        45\n",
      "   macro avg       0.84      0.80      0.82        45\n",
      "weighted avg       0.86      0.87      0.86        45\n",
      "\n",
      "BAC index encoding with prefix length 9\n",
      "Decision Tree\n",
      "              precision    recall  f1-score   support\n",
      "\n",
      "       False       0.75      0.75      0.75         8\n",
      "        True       0.95      0.95      0.95        37\n",
      "\n",
      "    accuracy                           0.91        45\n",
      "   macro avg       0.85      0.85      0.85        45\n",
      "weighted avg       0.91      0.91      0.91        45\n",
      "\n"
     ]
    }
   ],
   "source": [
    "print('BAC aggregation encoding with prefix length 9')\n",
    "y = adf9['outcome']\n",
    "x =adf9.drop(columns=['outcome','caseid'],axis=1)\n",
    "x_train,x_test,y_train,y_test = train_test_split(x,y, test_size=0.3)\n",
    "\n",
    "# Deicision tree result\n",
    "print('Decision Tree')\n",
    "dt = DecisionTreeClassifier(criterion='entropy', max_depth=5).fit(x_train,y_train)\n",
    "y_pred = dt.predict(x_test)\n",
    "print(classification_report(y_test,y_pred))\n",
    "\n",
    "print('BAC index encoding with prefix length 9')\n",
    "y = idf9['outcome']\n",
    "x =idf9.drop(columns=['outcome','caseid'],axis=1)\n",
    "x_train,x_test,y_train,y_test = train_test_split(x,y, test_size=0.3)\n",
    "\n",
    "# Deicision tree result\n",
    "print('Decision Tree')\n",
    "dt = DecisionTreeClassifier(criterion='entropy', max_depth=5).fit(x_train,y_train)\n",
    "y_pred = dt.predict(x_test)\n",
    "print(classification_report(y_test,y_pred))"
   ]
  },
  {
   "cell_type": "code",
   "execution_count": 42,
   "metadata": {},
   "outputs": [
    {
     "name": "stdout",
     "output_type": "stream",
     "text": [
      "BAC aggregation encoding with prefix length 10\n",
      "Decision Tree\n",
      "              precision    recall  f1-score   support\n",
      "\n",
      "       False       0.67      0.80      0.73        10\n",
      "        True       0.33      0.20      0.25         5\n",
      "\n",
      "    accuracy                           0.60        15\n",
      "   macro avg       0.50      0.50      0.49        15\n",
      "weighted avg       0.56      0.60      0.57        15\n",
      "\n",
      "BAC index encoding with prefix length 10\n",
      "Decision Tree\n",
      "              precision    recall  f1-score   support\n",
      "\n",
      "       False       0.71      0.56      0.63         9\n",
      "        True       0.50      0.67      0.57         6\n",
      "\n",
      "    accuracy                           0.60        15\n",
      "   macro avg       0.61      0.61      0.60        15\n",
      "weighted avg       0.63      0.60      0.60        15\n",
      "\n"
     ]
    }
   ],
   "source": [
    "print('BAC aggregation encoding with prefix length 10')\n",
    "y = adf10['outcome']\n",
    "x =adf10.drop(columns=['outcome','caseid'],axis=1)\n",
    "x_train,x_test,y_train,y_test = train_test_split(x,y, test_size=0.3)\n",
    "\n",
    "# Deicision tree result\n",
    "print('Decision Tree')\n",
    "dt = DecisionTreeClassifier(criterion='entropy', max_depth=5).fit(x_train,y_train)\n",
    "y_pred = dt.predict(x_test)\n",
    "print(classification_report(y_test,y_pred))\n",
    "\n",
    "print('BAC index encoding with prefix length 10')\n",
    "y = idf10['outcome']\n",
    "x =idf10.drop(columns=['outcome','caseid'],axis=1)\n",
    "x_train,x_test,y_train,y_test = train_test_split(x,y, test_size=0.3)\n",
    "\n",
    "# Deicision tree result\n",
    "print('Decision Tree')\n",
    "dt = DecisionTreeClassifier(criterion='entropy', max_depth=5).fit(x_train,y_train)\n",
    "y_pred = dt.predict(x_test)\n",
    "print(classification_report(y_test,y_pred))"
   ]
  },
  {
   "cell_type": "code",
   "execution_count": null,
   "metadata": {},
   "outputs": [],
   "source": []
  }
 ],
 "metadata": {
  "kernelspec": {
   "display_name": "Python 3",
   "language": "python",
   "name": "python3"
  },
  "language_info": {
   "codemirror_mode": {
    "name": "ipython",
    "version": 3
   },
   "file_extension": ".py",
   "mimetype": "text/x-python",
   "name": "python",
   "nbconvert_exporter": "python",
   "pygments_lexer": "ipython3",
   "version": "3.7.9"
  }
 },
 "nbformat": 4,
 "nbformat_minor": 2
}
