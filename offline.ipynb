{
 "cells": [
  {
   "cell_type": "code",
   "execution_count": 1,
   "metadata": {},
   "outputs": [],
   "source": [
    "import pandas as pd\n",
    "from sklearn.tree import DecisionTreeClassifier\n",
    "from sklearn.model_selection import train_test_split\n",
    "from sklearn.metrics import classification_report\n",
    "import utils\n",
    "import numpy as np\n",
    "from sklearn import tree\n",
    "import matplotlib.pyplot as plt"
   ]
  },
  {
   "cell_type": "code",
   "execution_count": 2,
   "metadata": {},
   "outputs": [],
   "source": [
    "def filter_by_prefix(df,prefix):\n",
    "    '''\n",
    "    Filter case by prefix length\n",
    "    \n",
    "    Parameters\n",
    "    ----------\n",
    "    df : pandas dataframe\n",
    "        Assigned dataframe to slice by prefix length\n",
    "    \n",
    "    prefix : int\n",
    "        Prefix length to slice to cases in fixed length\n",
    "    \n",
    "    Returns\n",
    "    ----------\n",
    "    Return dataframe with sliced cases\n",
    "    '''\n",
    "    df['ts'] = pd.to_datetime(df['ts'])\n",
    "    groups = df.groupby('caseid')\n",
    "    encoded_df=[]\n",
    "    for case,group in groups: \n",
    "        group = group.reset_index(drop=True)\n",
    "        if len(group)>prefix:\n",
    "            group = group.loc[:prefix-1,:]\n",
    "            encoded_df.append(group)\n",
    "    return pd.concat(encoded_df)"
   ]
  },
  {
   "cell_type": "code",
   "execution_count": 3,
   "metadata": {},
   "outputs": [],
   "source": [
    "def aggregation_encoding(df, prefix):\n",
    "    '''\n",
    "    Aggregation encoding\n",
    "    \n",
    "    Parameters\n",
    "    ----------\n",
    "    df : pandas dataframe\n",
    "        Assigned dataframe to encode for outcome prediction\n",
    "    \n",
    "    prefix : int\n",
    "        Prefix length to slice to cases in fixed length\n",
    "    \n",
    "    Returns\n",
    "    ----------\n",
    "    Return dataframe encoded in aggregation method\n",
    "    '''\n",
    "    df = filter_by_prefix(df,prefix)\n",
    "    df['ts'] = pd.to_datetime(df['ts'])\n",
    "    groups = df.groupby('caseid')\n",
    "    encoded_df=[]\n",
    "    for case,group in groups: \n",
    "        group = group.reset_index(drop=True)\n",
    "        outcome = set(group['outcome']).pop()\n",
    "        cumdurationlist = [(x - list(group['ts'])[0]).total_seconds() for x in list(group['ts'])]\n",
    "        case_time_outcome = {'caseid':case, 'ts':np.mean(cumdurationlist),'outcome':outcome}\n",
    "        activity_count = {x: list(group['activity']).count(x) for x in set(group['activity'])}\n",
    "        resource_count = {x: list(group['resource']).count(x) for x in set(group['resource'])}\n",
    "\n",
    "        case_time_outcome.update(activity_count)\n",
    "        case_time_outcome.update(resource_count)\n",
    "        dfk = pd.DataFrame.from_dict([case_time_outcome])\n",
    "        encoded_df.append(dfk)\n",
    "    concated_df = pd.concat(encoded_df)\n",
    "    concated_df = concated_df.fillna(0)\n",
    "    return concated_df"
   ]
  },
  {
   "cell_type": "code",
   "execution_count": 35,
   "metadata": {},
   "outputs": [],
   "source": [
    "def indexbase_encoding(df, prefix):\n",
    "    '''\n",
    "    Indexbase encoding\n",
    "    \n",
    "    Parameters\n",
    "    ----------\n",
    "    df : pandas dataframe\n",
    "        Assigned dataframe to encode for outcome prediction\n",
    "    \n",
    "    prefix : int\n",
    "        Prefix length to slice to cases in fixed length\n",
    "    \n",
    "    Returns\n",
    "    ----------\n",
    "    Return dataframe encoded in indexbase method\n",
    "    '''\n",
    "    df = filter_by_prefix(df,prefix)\n",
    "    df['ts'] = pd.to_datetime(df['ts'])\n",
    "    groups = df.groupby('caseid')\n",
    "    encoded_df=[]\n",
    "    for case,group in groups: \n",
    "        activitylist = list(group['activity'])\n",
    "        resourcelist = list(group['resource'])\n",
    "        group = group.reset_index(drop=True)\n",
    "        outcome = set(group['outcome']).pop()\n",
    "        cumdurationlist = [(x - list(group['ts'])[0]).total_seconds() for x in list(group['ts'])]\n",
    "        cumduration_index ={'Cumduration_'+str(x+1): cumdurationlist[x] for x in range(len(cumdurationlist))}\n",
    "        case_outcome = {'caseid':case, 'outcome':outcome}\n",
    "        activity_index = {'activity_'+str(x+1)+'_'+activitylist[x]: 1 for x in range(len(activitylist))}\n",
    "        resource_index = {'resource_'+str(x+1)+'_'+str(resourcelist[x]): 1 for x in range(len(resourcelist))}\n",
    "        case_outcome.update(cumduration_index)\n",
    "        case_outcome.update(activity_index)\n",
    "        case_outcome.update(resource_index)\n",
    "        dfk = pd.DataFrame.from_dict([case_outcome])\n",
    "        encoded_df.append(dfk)\n",
    "    concated_df = pd.concat(encoded_df)\n",
    "    concated_df = concated_df.fillna(0)\n",
    "    return concated_df"
   ]
  },
  {
   "cell_type": "code",
   "execution_count": 5,
   "metadata": {},
   "outputs": [],
   "source": [
    "df = pd.read_csv('./data/bpic2017.csv')\n",
    "df['Complete Timestamp'] = pd.to_datetime(df['Complete Timestamp'])\n",
    "df = df.rename(columns={'Case ID':'caseid','Activity':'activity','Complete Timestamp':'ts','Resource':'resource'})\n",
    "df = df.loc[:,['caseid','activity','ts','resource']]\n",
    "groups = df.groupby('caseid')\n",
    "reconcatenate =[]\n",
    "for _,group in groups:\n",
    "    group = group.reset_index(drop=True)\n",
    "    case_label = utils.set_label(group.iloc[-1,:].to_dict())['True label']\n",
    "    group.loc[:,'outcome'] = case_label\n",
    "    reconcatenate.append(group)\n",
    "dfn = pd.concat(reconcatenate)\n",
    "# df2 = aggregation_encoding(dfn,2)\n",
    "df3 = aggregation_encoding(dfn,3)\n",
    "df4 = aggregation_encoding(dfn,4)\n",
    "idf3 = indexbase_encoding(dfn,3)\n",
    "idf4 = indexbase_encoding(dfn,4)"
   ]
  },
  {
   "cell_type": "code",
   "execution_count": 6,
   "metadata": {},
   "outputs": [
    {
     "name": "stdout",
     "output_type": "stream",
     "text": [
      "BPIC2017 aggregation encoding with prefix length 3\n",
      "Decision Tree\n",
      "              precision    recall  f1-score   support\n",
      "\n",
      "    Accepted       0.58      0.01      0.02       575\n",
      "Not accepted       0.61      0.99      0.75       884\n",
      "\n",
      "    accuracy                           0.61      1459\n",
      "   macro avg       0.60      0.50      0.39      1459\n",
      "weighted avg       0.60      0.61      0.47      1459\n",
      "\n"
     ]
    }
   ],
   "source": [
    "print('BPIC2017 aggregation encoding with prefix length 3')\n",
    "y = df3['outcome']\n",
    "x =df3.drop(columns=['outcome','caseid'],axis=1)\n",
    "x_train,x_test,y_train,y_test = train_test_split(x,y, test_size=0.3)\n",
    "\n",
    "# Deicision tree result\n",
    "print('Decision Tree')\n",
    "dt = DecisionTreeClassifier(criterion='entropy', max_depth=5).fit(x_train,y_train)\n",
    "y_pred = dt.predict(x_test)\n",
    "print(classification_report(y_test,y_pred))"
   ]
  },
  {
   "cell_type": "code",
   "execution_count": 7,
   "metadata": {
    "scrolled": true
   },
   "outputs": [
    {
     "name": "stdout",
     "output_type": "stream",
     "text": [
      "BPIC2017 aggregation encoding with prefix length 4\n",
      "Decision Tree\n",
      "              precision    recall  f1-score   support\n",
      "\n",
      "    Accepted       0.74      0.96      0.84       568\n",
      "Not accepted       0.31      0.05      0.09       197\n",
      "\n",
      "    accuracy                           0.73       765\n",
      "   macro avg       0.53      0.51      0.46       765\n",
      "weighted avg       0.63      0.73      0.65       765\n",
      "\n"
     ]
    }
   ],
   "source": []
  },
  {
   "cell_type": "code",
   "execution_count": 8,
   "metadata": {},
   "outputs": [
    {
     "data": {
      "image/png": "[encoded data removed]",
      "text/plain": [
       "<Figure size 432x288 with 1 Axes>"
      ]
     },
     "metadata": {
      "needs_background": "light"
     },
     "output_type": "display_data"
    }
   ],
   "source": [
    "tree.plot_tree(dt)\n",
    "# plt.show()\n",
    "plt.savefig('./img/offlinetree.png',dpi=300)"
   ]
  },
  {
   "cell_type": "code",
   "execution_count": 9,
   "metadata": {},
   "outputs": [
    {
     "name": "stdout",
     "output_type": "stream",
     "text": [
      "BPIC2017 index encoding with prefix length 3\n",
      "Decision Tree\n",
      "              precision    recall  f1-score   support\n",
      "\n",
      "    Accepted       0.48      0.05      0.10       566\n",
      "Not accepted       0.62      0.96      0.75       893\n",
      "\n",
      "    accuracy                           0.61      1459\n",
      "   macro avg       0.55      0.51      0.42      1459\n",
      "weighted avg       0.56      0.61      0.50      1459\n",
      "\n"
     ]
    }
   ],
   "source": [
    "print('BPIC2017 index encoding with prefix length 3')\n",
    "y = idf3['outcome']\n",
    "x =idf3.drop(columns=['outcome','caseid'],axis=1)\n",
    "x_train,x_test,y_train,y_test = train_test_split(x,y, test_size=0.3)\n",
    "\n",
    "# Deicision tree result\n",
    "print('Decision Tree')\n",
    "dt = DecisionTreeClassifier(criterion='entropy', max_depth=5).fit(x_train,y_train)\n",
    "y_pred = dt.predict(x_test)\n",
    "print(classification_report(y_test,y_pred))"
   ]
  },
  {
   "cell_type": "code",
   "execution_count": 11,
   "metadata": {},
   "outputs": [
    {
     "name": "stdout",
     "output_type": "stream",
     "text": [
      "BPIC2017 aggregation encoding with prefix length 4\n",
      "Decision Tree\n",
      "              precision    recall  f1-score   support\n",
      "\n",
      "    Accepted       0.73      0.99      0.84       563\n",
      "Not accepted       0.11      0.00      0.01       202\n",
      "\n",
      "    accuracy                           0.73       765\n",
      "   macro avg       0.42      0.50      0.43       765\n",
      "weighted avg       0.57      0.73      0.62       765\n",
      "\n"
     ]
    }
   ],
   "source": [
    "print('BPIC2017 aggregation encoding with prefix length 4')\n",
    "y = df4['outcome']\n",
    "x =df4.drop(columns=['outcome','caseid'],axis=1)\n",
    "x_train,x_test,y_train,y_test = train_test_split(x,y, test_size=0.3)\n",
    "\n",
    "# Deicision tree result\n",
    "print('Decision Tree')\n",
    "dt = DecisionTreeClassifier(criterion='entropy', max_depth=5).fit(x_train,y_train)\n",
    "y_pred = dt.predict(x_test)\n",
    "print(classification_report(y_test,y_pred))"
   ]
  },
  {
   "cell_type": "code",
   "execution_count": 12,
   "metadata": {},
   "outputs": [
    {
     "name": "stdout",
     "output_type": "stream",
     "text": [
      "BPIC2017 index encoding with prefix length 4\n",
      "Decision Tree\n",
      "              precision    recall  f1-score   support\n",
      "\n",
      "    Accepted       0.71      0.98      0.82       543\n",
      "Not accepted       0.29      0.02      0.03       222\n",
      "\n",
      "    accuracy                           0.70       765\n",
      "   macro avg       0.50      0.50      0.43       765\n",
      "weighted avg       0.59      0.70      0.59       765\n",
      "\n"
     ]
    }
   ],
   "source": [
    "print('BPIC2017 index encoding with prefix length 4')\n",
    "y = idf4['outcome']\n",
    "x =idf4.drop(columns=['outcome','caseid'],axis=1)\n",
    "x_train,x_test,y_train,y_test = train_test_split(x,y, test_size=0.3)\n",
    "\n",
    "# Deicision tree result\n",
    "print('Decision Tree')\n",
    "dt = DecisionTreeClassifier(criterion='entropy', max_depth=5).fit(x_train,y_train)\n",
    "y_pred = dt.predict(x_test)\n",
    "print(classification_report(y_test,y_pred))"
   ]
  },
  {
   "cell_type": "code",
   "execution_count": 39,
   "metadata": {},
   "outputs": [
    {
     "name": "stderr",
     "output_type": "stream",
     "text": [
      "/home/iel03/.local/lib/python3.8/site-packages/IPython/core/interactiveshell.py:3146: DtypeWarning: Columns (22) have mixed types.Specify dtype option on import or set low_memory=False.\n",
      "  has_raised = await self.run_ast_nodes(code_ast.body, cell_name,\n"
     ]
    }
   ],
   "source": [
    "df = pd.read_csv('./data/BPIC15_1prep.csv')\n",
    "df['Complete Timestamp'] = pd.to_datetime(df['Complete Timestamp'])\n",
    "df = df.rename(columns={'Case ID':'caseid','Activity':'activity','Complete Timestamp':'ts','Resource':'resource','Label':'outcome'})\n",
    "df = df.loc[:,['caseid','activity','ts','resource','outcome']]\n",
    "groups = df.groupby('caseid')\n",
    "reconcatenate =[]\n",
    "for _,group in groups:\n",
    "    group = group.reset_index(drop=True)\n",
    "    case_label = list(group['outcome'])[0]#utils.set_label(group.iloc[-1,:].to_dict())['True label']\n",
    "    group.loc[:,'outcome'] = case_label\n",
    "    reconcatenate.append(group)\n",
    "dfn = pd.concat(reconcatenate)\n",
    "# df2 = aggregation_encoding(dfn,2)\n",
    "\n",
    "df4 = aggregation_encoding(dfn,4)\n",
    "df8 = aggregation_encoding(dfn,8)\n",
    "\n",
    "idf4 = indexbase_encoding(dfn,4)\n",
    "idf8 = indexbase_encoding(dfn,8)"
   ]
  },
  {
   "cell_type": "code",
   "execution_count": 40,
   "metadata": {},
   "outputs": [
    {
     "name": "stdout",
     "output_type": "stream",
     "text": [
      "BPIC2017 aggregation encoding with prefix length 4\n",
      "Decision Tree\n",
      "              precision    recall  f1-score   support\n",
      "\n",
      "           0       0.75      0.99      0.86       268\n",
      "           1       0.57      0.04      0.08        90\n",
      "\n",
      "    accuracy                           0.75       358\n",
      "   macro avg       0.66      0.52      0.47       358\n",
      "weighted avg       0.71      0.75      0.66       358\n",
      "\n"
     ]
    }
   ],
   "source": [
    "print('BPIC2017 aggregation encoding with prefix length 4')\n",
    "y = df4['outcome']\n",
    "x =df4.drop(columns=['outcome','caseid'],axis=1)\n",
    "x_train,x_test,y_train,y_test = train_test_split(x,y, test_size=0.3)\n",
    "\n",
    "# Deicision tree result\n",
    "print('Decision Tree')\n",
    "dt = DecisionTreeClassifier(criterion='entropy', max_depth=5).fit(x_train,y_train)\n",
    "y_pred = dt.predict(x_test)\n",
    "print(classification_report(y_test,y_pred))"
   ]
  },
  {
   "cell_type": "code",
   "execution_count": 41,
   "metadata": {},
   "outputs": [
    {
     "name": "stdout",
     "output_type": "stream",
     "text": [
      "BPIC2017 index encoding with prefix length 4\n",
      "Decision Tree\n",
      "              precision    recall  f1-score   support\n",
      "\n",
      "           0       0.77      1.00      0.87       274\n",
      "           1       0.00      0.00      0.00        84\n",
      "\n",
      "    accuracy                           0.77       358\n",
      "   macro avg       0.38      0.50      0.43       358\n",
      "weighted avg       0.59      0.77      0.66       358\n",
      "\n"
     ]
    },
    {
     "name": "stderr",
     "output_type": "stream",
     "text": [
      "/home/iel03/.local/lib/python3.8/site-packages/sklearn/metrics/_classification.py:1245: UndefinedMetricWarning: Precision and F-score are ill-defined and being set to 0.0 in labels with no predicted samples. Use `zero_division` parameter to control this behavior.\n",
      "  _warn_prf(average, modifier, msg_start, len(result))\n",
      "/home/iel03/.local/lib/python3.8/site-packages/sklearn/metrics/_classification.py:1245: UndefinedMetricWarning: Precision and F-score are ill-defined and being set to 0.0 in labels with no predicted samples. Use `zero_division` parameter to control this behavior.\n",
      "  _warn_prf(average, modifier, msg_start, len(result))\n",
      "/home/iel03/.local/lib/python3.8/site-packages/sklearn/metrics/_classification.py:1245: UndefinedMetricWarning: Precision and F-score are ill-defined and being set to 0.0 in labels with no predicted samples. Use `zero_division` parameter to control this behavior.\n",
      "  _warn_prf(average, modifier, msg_start, len(result))\n"
     ]
    }
   ],
   "source": [
    "print('BPIC2017 index encoding with prefix length 4')\n",
    "y = idf4['outcome']\n",
    "x =idf4.drop(columns=['outcome','caseid'],axis=1)\n",
    "x_train,x_test,y_train,y_test = train_test_split(x,y, test_size=0.3)\n",
    "\n",
    "# Deicision tree result\n",
    "print('Decision Tree')\n",
    "dt = DecisionTreeClassifier(criterion='entropy', max_depth=5).fit(x_train,y_train)\n",
    "y_pred = dt.predict(x_test)\n",
    "print(classification_report(y_test,y_pred))"
   ]
  },
  {
   "cell_type": "code",
   "execution_count": 42,
   "metadata": {},
   "outputs": [
    {
     "name": "stdout",
     "output_type": "stream",
     "text": [
      "BPIC2017 aggregation encoding with prefix length 4\n",
      "Decision Tree\n",
      "              precision    recall  f1-score   support\n",
      "\n",
      "           0       0.76      0.99      0.86       264\n",
      "           1       0.67      0.07      0.12        87\n",
      "\n",
      "    accuracy                           0.76       351\n",
      "   macro avg       0.71      0.53      0.49       351\n",
      "weighted avg       0.74      0.76      0.68       351\n",
      "\n"
     ]
    }
   ],
   "source": [
    "print('BPIC2017 aggregation encoding with prefix length 4')\n",
    "y = df8['outcome']\n",
    "x =df8.drop(columns=['outcome','caseid'],axis=1)\n",
    "x_train,x_test,y_train,y_test = train_test_split(x,y, test_size=0.3)\n",
    "\n",
    "# Deicision tree result\n",
    "print('Decision Tree')\n",
    "dt = DecisionTreeClassifier(criterion='entropy', max_depth=5).fit(x_train,y_train)\n",
    "y_pred = dt.predict(x_test)\n",
    "print(classification_report(y_test,y_pred))"
   ]
  },
  {
   "cell_type": "code",
   "execution_count": 43,
   "metadata": {},
   "outputs": [
    {
     "name": "stdout",
     "output_type": "stream",
     "text": [
      "BPIC2017 aggregation encoding with prefix length 4\n",
      "Decision Tree\n",
      "              precision    recall  f1-score   support\n",
      "\n",
      "           0       0.76      0.92      0.83       263\n",
      "           1       0.35      0.14      0.20        88\n",
      "\n",
      "    accuracy                           0.72       351\n",
      "   macro avg       0.56      0.53      0.51       351\n",
      "weighted avg       0.66      0.72      0.67       351\n",
      "\n"
     ]
    }
   ],
   "source": [
    "print('BPIC2017 aggregation encoding with prefix length 4')\n",
    "y = idf8['outcome']\n",
    "x =idf8.drop(columns=['outcome','caseid'],axis=1)\n",
    "x_train,x_test,y_train,y_test = train_test_split(x,y, test_size=0.3)\n",
    "\n",
    "# Deicision tree result\n",
    "print('Decision Tree')\n",
    "dt = DecisionTreeClassifier(criterion='entropy', max_depth=5).fit(x_train,y_train)\n",
    "y_pred = dt.predict(x_test)\n",
    "print(classification_report(y_test,y_pred))"
   ]
  }
 ],
 "metadata": {
  "kernelspec": {
   "display_name": "Python 3",
   "language": "python",
   "name": "python3"
  },
  "language_info": {
   "codemirror_mode": {
    "name": "ipython",
    "version": 3
   },
   "file_extension": ".py",
   "mimetype": "text/x-python",
   "name": "python",
   "nbconvert_exporter": "python",
   "pygments_lexer": "ipython3",
   "version": "3.8.7"
  }
 },
 "nbformat": 4,
 "nbformat_minor": 2
}
