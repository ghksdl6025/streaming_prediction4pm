{
 "cells": [
  {
   "cell_type": "code",
   "execution_count": 42,
   "metadata": {},
   "outputs": [],
   "source": [
    "import pandas as pd\n",
    "from sklearn.tree import DecisionTreeClassifier\n",
    "from sklearn.model_selection import train_test_split\n",
    "from sklearn.metrics import classification_report\n",
    "import utils\n",
    "import numpy as np\n",
    "from sklearn import tree\n",
    "import matplotlib.pyplot as plt"
   ]
  },
  {
   "cell_type": "code",
   "execution_count": 43,
   "metadata": {},
   "outputs": [],
   "source": [
    "def filter_by_prefix(df,prefix):\n",
    "    '''\n",
    "    Filter case by prefix length\n",
    "    \n",
    "    Parameters\n",
    "    ----------\n",
    "    df : pandas dataframe\n",
    "        Assigned dataframe to slice by prefix length\n",
    "    \n",
    "    prefix : int\n",
    "        Prefix length to slice to cases in fixed length\n",
    "    \n",
    "    Returns\n",
    "    ----------\n",
    "    Return dataframe with sliced cases\n",
    "    '''\n",
    "    df['ts'] = pd.to_datetime(df['ts'])\n",
    "    groups = df.groupby('caseid')\n",
    "    encoded_df=[]\n",
    "    for case,group in groups: \n",
    "        group = group.reset_index(drop=True)\n",
    "        if len(group)>prefix:\n",
    "            group = group.loc[:prefix-1,:]\n",
    "            encoded_df.append(group)\n",
    "    return pd.concat(encoded_df)"
   ]
  },
  {
   "cell_type": "code",
   "execution_count": 44,
   "metadata": {},
   "outputs": [],
   "source": [
    "def aggregation_encoding(df, prefix):\n",
    "    '''\n",
    "    Aggregation encoding\n",
    "    \n",
    "    Parameters\n",
    "    ----------\n",
    "    df : pandas dataframe\n",
    "        Assigned dataframe to encode for outcome prediction\n",
    "    \n",
    "    prefix : int\n",
    "        Prefix length to slice to cases in fixed length\n",
    "    \n",
    "    Returns\n",
    "    ----------\n",
    "    Return dataframe encoded in aggregation method\n",
    "    '''\n",
    "    df = filter_by_prefix(df,prefix)\n",
    "    df['ts'] = pd.to_datetime(df['ts'])\n",
    "    groups = df.groupby('caseid')\n",
    "    encoded_df=[]\n",
    "    for case,group in groups: \n",
    "        group = group.reset_index(drop=True)\n",
    "        outcome = set(group['outcome']).pop()\n",
    "        cumdurationlist = [(x - list(group['ts'])[0]).total_seconds() for x in list(group['ts'])]\n",
    "        case_time_outcome = {'caseid':case, 'ts':np.mean(cumdurationlist),'outcome':outcome}\n",
    "        activity_count = {x: list(group['activity']).count(x) for x in set(group['activity'])}\n",
    "        resource_count = {x: list(group['resource']).count(x) for x in set(group['resource'])}\n",
    "\n",
    "        case_time_outcome.update(activity_count)\n",
    "        case_time_outcome.update(resource_count)\n",
    "        dfk = pd.DataFrame.from_dict([case_time_outcome])\n",
    "        encoded_df.append(dfk)\n",
    "    concated_df = pd.concat(encoded_df)\n",
    "    concated_df = concated_df.fillna(0)\n",
    "    return concated_df"
   ]
  },
  {
   "cell_type": "code",
   "execution_count": 45,
   "metadata": {},
   "outputs": [],
   "source": [
    "def indexbase_encoding(df, prefix):\n",
    "    '''\n",
    "    Indexbase encoding\n",
    "    \n",
    "    Parameters\n",
    "    ----------\n",
    "    df : pandas dataframe\n",
    "        Assigned dataframe to encode for outcome prediction\n",
    "    \n",
    "    prefix : int\n",
    "        Prefix length to slice to cases in fixed length\n",
    "    \n",
    "    Returns\n",
    "    ----------\n",
    "    Return dataframe encoded in indexbase method\n",
    "    '''\n",
    "    df = filter_by_prefix(df,prefix)\n",
    "    df['ts'] = pd.to_datetime(df['ts'])\n",
    "    groups = df.groupby('caseid')\n",
    "    encoded_df=[]\n",
    "    for case,group in groups: \n",
    "        activitylist = list(group['activity'])\n",
    "        resourcelist = list(group['resource'])\n",
    "        group = group.reset_index(drop=True)\n",
    "        outcome = set(group['outcome']).pop()\n",
    "        cumdurationlist = [(x - list(group['ts'])[0]).total_seconds() for x in list(group['ts'])]\n",
    "        cumduration_index ={'Cumduration_'+str(x+1): cumdurationlist[x] for x in range(len(cumdurationlist))}\n",
    "        case_outcome = {'caseid':case, 'outcome':outcome}\n",
    "        activity_index = {'activity_'+str(x+1)+'_'+activitylist[x]: 1 for x in range(len(activitylist))}\n",
    "        resource_index = {'resource_'+str(x+1)+'_'+str(resourcelist[x]): 1 for x in range(len(resourcelist))}\n",
    "        case_outcome.update(cumduration_index)\n",
    "        case_outcome.update(activity_index)\n",
    "        case_outcome.update(resource_index)\n",
    "        dfk = pd.DataFrame.from_dict([case_outcome])\n",
    "        encoded_df.append(dfk)\n",
    "    concated_df = pd.concat(encoded_df)\n",
    "    concated_df = concated_df.fillna(0)\n",
    "    return concated_df"
   ]
  },
  {
   "cell_type": "code",
   "execution_count": 46,
   "metadata": {},
   "outputs": [],
   "source": [
    "df = pd.read_csv('./data/bac_online_small.csv')\n",
    "df['START_DATE'] = pd.to_datetime(df['START_DATE'])\n",
    "df = df.rename(columns={'REQUEST_ID':'caseid','ACTIVITY':'activity','START_DATE':'ts','CE_UO':'resource'})\n",
    "df = df.loc[:,['caseid','activity','ts','resource','outcome']]"
   ]
  },
  {
   "cell_type": "code",
   "execution_count": 47,
   "metadata": {},
   "outputs": [],
   "source": [
    "groups = df.groupby('caseid')\n",
    "concating = []\n",
    "for _, group in groups:\n",
    "    outcomelist = list(group['outcome'])\n",
    "    outcome = outcomelist[-1]\n",
    "    group = group.reset_index(drop=True)\n",
    "    if True in outcomelist:\n",
    "        group = group.loc[:outcomelist.index(True),:]\n",
    "    group['outcome'] = outcome\n",
    "    concating.append(group)\n",
    "\n",
    "dfn = pd.concat(concating)"
   ]
  },
  {
   "cell_type": "code",
   "execution_count": 48,
   "metadata": {},
   "outputs": [],
   "source": [
    "adf10 = aggregation_encoding(dfn,10)\n",
    "idf10 = indexbase_encoding(dfn,10)"
   ]
  },
  {
   "cell_type": "code",
   "execution_count": 49,
   "metadata": {},
   "outputs": [],
   "source": [
    "adf5 = aggregation_encoding(dfn,5)\n",
    "idf5 = indexbase_encoding(dfn,5)"
   ]
  },
  {
   "cell_type": "code",
   "execution_count": 50,
   "metadata": {},
   "outputs": [],
   "source": [
    "adf6 = aggregation_encoding(dfn,6)\n",
    "idf6 = indexbase_encoding(dfn,6)"
   ]
  },
  {
   "cell_type": "code",
   "execution_count": 51,
   "metadata": {},
   "outputs": [],
   "source": [
    "adf7 = aggregation_encoding(dfn,7)\n",
    "idf7 = indexbase_encoding(dfn,7)"
   ]
  },
  {
   "cell_type": "code",
   "execution_count": 52,
   "metadata": {},
   "outputs": [],
   "source": [
    "adf8 = aggregation_encoding(dfn,8)\n",
    "idf8 = indexbase_encoding(dfn,8)"
   ]
  },
  {
   "cell_type": "code",
   "execution_count": 53,
   "metadata": {},
   "outputs": [],
   "source": [
    "adf9 = aggregation_encoding(dfn,9)\n",
    "idf9 = indexbase_encoding(dfn,9)"
   ]
  },
  {
   "cell_type": "code",
   "execution_count": 54,
   "metadata": {},
   "outputs": [
    {
     "name": "stdout",
     "output_type": "stream",
     "text": [
      "BAC aggregation encoding with prefix length 5\n",
      "Decision Tree\n",
      "              precision    recall  f1-score   support\n",
      "\n",
      "       False       0.93      0.98      0.95      1078\n",
      "        True       0.46      0.18      0.26       102\n",
      "\n",
      "    accuracy                           0.91      1180\n",
      "   macro avg       0.69      0.58      0.60      1180\n",
      "weighted avg       0.89      0.91      0.89      1180\n",
      "\n",
      "BAC index encoding with prefix length 5\n",
      "Decision Tree\n",
      "              precision    recall  f1-score   support\n",
      "\n",
      "       False       0.94      0.98      0.96      1094\n",
      "        True       0.50      0.21      0.30        86\n",
      "\n",
      "    accuracy                           0.93      1180\n",
      "   macro avg       0.72      0.60      0.63      1180\n",
      "weighted avg       0.91      0.93      0.91      1180\n",
      "\n"
     ]
    }
   ],
   "source": [
    "print('BAC aggregation encoding with prefix length 5')\n",
    "y = adf5['outcome']\n",
    "x =adf5.drop(columns=['outcome','caseid'],axis=1)\n",
    "x_train,x_test,y_train,y_test = train_test_split(x,y, test_size=0.3)\n",
    "\n",
    "# Deicision tree result\n",
    "print('Decision Tree')\n",
    "dt = DecisionTreeClassifier(criterion='entropy', max_depth=5).fit(x_train,y_train)\n",
    "y_pred = dt.predict(x_test)\n",
    "print(classification_report(y_test,y_pred))\n",
    "\n",
    "print('BAC index encoding with prefix length 5')\n",
    "y = idf5['outcome']\n",
    "x =idf5.drop(columns=['outcome','caseid'],axis=1)\n",
    "x_train,x_test,y_train,y_test = train_test_split(x,y, test_size=0.3)\n",
    "\n",
    "# Deicision tree result\n",
    "print('Decision Tree')\n",
    "dt = DecisionTreeClassifier(criterion='entropy', max_depth=5).fit(x_train,y_train)\n",
    "y_pred = dt.predict(x_test)\n",
    "print(classification_report(y_test,y_pred))"
   ]
  },
  {
   "cell_type": "code",
   "execution_count": 55,
   "metadata": {},
   "outputs": [
    {
     "name": "stdout",
     "output_type": "stream",
     "text": [
      "BAC aggregation encoding with prefix length 6\n",
      "Decision Tree\n",
      "              precision    recall  f1-score   support\n",
      "\n",
      "       False       0.93      0.96      0.95       958\n",
      "        True       0.46      0.32      0.37        95\n",
      "\n",
      "    accuracy                           0.91      1053\n",
      "   macro avg       0.70      0.64      0.66      1053\n",
      "weighted avg       0.89      0.91      0.90      1053\n",
      "\n",
      "BAC index encoding with prefix length 6\n",
      "Decision Tree\n",
      "              precision    recall  f1-score   support\n",
      "\n",
      "       False       0.92      0.98      0.95       950\n",
      "        True       0.58      0.25      0.35       103\n",
      "\n",
      "    accuracy                           0.91      1053\n",
      "   macro avg       0.75      0.62      0.65      1053\n",
      "weighted avg       0.89      0.91      0.89      1053\n",
      "\n"
     ]
    }
   ],
   "source": [
    "print('BAC aggregation encoding with prefix length 6')\n",
    "y = adf6['outcome']\n",
    "x =adf6.drop(columns=['outcome','caseid'],axis=1)\n",
    "x_train,x_test,y_train,y_test = train_test_split(x,y, test_size=0.3)\n",
    "\n",
    "# Deicision tree result\n",
    "print('Decision Tree')\n",
    "dt = DecisionTreeClassifier(criterion='entropy', max_depth=5).fit(x_train,y_train)\n",
    "y_pred = dt.predict(x_test)\n",
    "print(classification_report(y_test,y_pred))\n",
    "\n",
    "print('BAC index encoding with prefix length 6')\n",
    "y = idf6['outcome']\n",
    "x =idf6.drop(columns=['outcome','caseid'],axis=1)\n",
    "x_train,x_test,y_train,y_test = train_test_split(x,y, test_size=0.3)\n",
    "\n",
    "# Deicision tree result\n",
    "print('Decision Tree')\n",
    "dt = DecisionTreeClassifier(criterion='entropy', max_depth=5).fit(x_train,y_train)\n",
    "y_pred = dt.predict(x_test)\n",
    "print(classification_report(y_test,y_pred))"
   ]
  },
  {
   "cell_type": "code",
   "execution_count": 56,
   "metadata": {},
   "outputs": [
    {
     "name": "stdout",
     "output_type": "stream",
     "text": [
      "BAC aggregation encoding with prefix length 7\n",
      "Decision Tree\n",
      "              precision    recall  f1-score   support\n",
      "\n",
      "       False       0.94      0.72      0.82        87\n",
      "        True       0.57      0.89      0.70        36\n",
      "\n",
      "    accuracy                           0.77       123\n",
      "   macro avg       0.76      0.81      0.76       123\n",
      "weighted avg       0.83      0.77      0.78       123\n",
      "\n",
      "BAC index encoding with prefix length 7\n",
      "Decision Tree\n",
      "              precision    recall  f1-score   support\n",
      "\n",
      "       False       0.94      0.78      0.85        94\n",
      "        True       0.53      0.83      0.65        29\n",
      "\n",
      "    accuracy                           0.79       123\n",
      "   macro avg       0.73      0.80      0.75       123\n",
      "weighted avg       0.84      0.79      0.80       123\n",
      "\n"
     ]
    }
   ],
   "source": [
    "print('BAC aggregation encoding with prefix length 7')\n",
    "y = adf7['outcome']\n",
    "x =adf7.drop(columns=['outcome','caseid'],axis=1)\n",
    "x_train,x_test,y_train,y_test = train_test_split(x,y, test_size=0.3)\n",
    "\n",
    "# Deicision tree result\n",
    "print('Decision Tree')\n",
    "dt = DecisionTreeClassifier(criterion='entropy', max_depth=5).fit(x_train,y_train)\n",
    "y_pred = dt.predict(x_test)\n",
    "print(classification_report(y_test,y_pred))\n",
    "\n",
    "print('BAC index encoding with prefix length 7')\n",
    "y = idf7['outcome']\n",
    "x =idf7.drop(columns=['outcome','caseid'],axis=1)\n",
    "x_train,x_test,y_train,y_test = train_test_split(x,y, test_size=0.3)\n",
    "\n",
    "# Deicision tree result\n",
    "print('Decision Tree')\n",
    "dt = DecisionTreeClassifier(criterion='entropy', max_depth=5).fit(x_train,y_train)\n",
    "y_pred = dt.predict(x_test)\n",
    "print(classification_report(y_test,y_pred))"
   ]
  },
  {
   "cell_type": "code",
   "execution_count": 57,
   "metadata": {},
   "outputs": [
    {
     "name": "stdout",
     "output_type": "stream",
     "text": [
      "BAC aggregation encoding with prefix length 8\n",
      "Decision Tree\n",
      "              precision    recall  f1-score   support\n",
      "\n",
      "       False       0.74      0.46      0.57        37\n",
      "        True       0.63      0.85      0.72        40\n",
      "\n",
      "    accuracy                           0.66        77\n",
      "   macro avg       0.68      0.65      0.65        77\n",
      "weighted avg       0.68      0.66      0.65        77\n",
      "\n",
      "BAC index encoding with prefix length 8\n",
      "Decision Tree\n",
      "              precision    recall  f1-score   support\n",
      "\n",
      "       False       0.73      0.57      0.64        47\n",
      "        True       0.50      0.67      0.57        30\n",
      "\n",
      "    accuracy                           0.61        77\n",
      "   macro avg       0.61      0.62      0.61        77\n",
      "weighted avg       0.64      0.61      0.62        77\n",
      "\n"
     ]
    }
   ],
   "source": [
    "print('BAC aggregation encoding with prefix length 8')\n",
    "y = adf8['outcome']\n",
    "x =adf8.drop(columns=['outcome','caseid'],axis=1)\n",
    "x_train,x_test,y_train,y_test = train_test_split(x,y, test_size=0.3)\n",
    "\n",
    "# Deicision tree result\n",
    "print('Decision Tree')\n",
    "dt = DecisionTreeClassifier(criterion='entropy', max_depth=5).fit(x_train,y_train)\n",
    "y_pred = dt.predict(x_test)\n",
    "print(classification_report(y_test,y_pred))\n",
    "\n",
    "print('BAC index encoding with prefix length 8')\n",
    "y = idf8['outcome']\n",
    "x =idf8.drop(columns=['outcome','caseid'],axis=1)\n",
    "x_train,x_test,y_train,y_test = train_test_split(x,y, test_size=0.3)\n",
    "\n",
    "# Deicision tree result\n",
    "print('Decision Tree')\n",
    "dt = DecisionTreeClassifier(criterion='entropy', max_depth=5).fit(x_train,y_train)\n",
    "y_pred = dt.predict(x_test)\n",
    "print(classification_report(y_test,y_pred))"
   ]
  },
  {
   "cell_type": "code",
   "execution_count": 58,
   "metadata": {},
   "outputs": [
    {
     "name": "stdout",
     "output_type": "stream",
     "text": [
      "BAC aggregation encoding with prefix length 9\n",
      "Decision Tree\n",
      "              precision    recall  f1-score   support\n",
      "\n",
      "       False       0.78      0.58      0.67        12\n",
      "        True       0.38      0.60      0.46         5\n",
      "\n",
      "    accuracy                           0.59        17\n",
      "   macro avg       0.58      0.59      0.56        17\n",
      "weighted avg       0.66      0.59      0.61        17\n",
      "\n",
      "BAC index encoding with prefix length 9\n",
      "Decision Tree\n",
      "              precision    recall  f1-score   support\n",
      "\n",
      "       False       0.50      0.88      0.64         8\n",
      "        True       0.67      0.22      0.33         9\n",
      "\n",
      "    accuracy                           0.53        17\n",
      "   macro avg       0.58      0.55      0.48        17\n",
      "weighted avg       0.59      0.53      0.48        17\n",
      "\n"
     ]
    }
   ],
   "source": [
    "print('BAC aggregation encoding with prefix length 9')\n",
    "y = adf9['outcome']\n",
    "x =adf9.drop(columns=['outcome','caseid'],axis=1)\n",
    "x_train,x_test,y_train,y_test = train_test_split(x,y, test_size=0.3)\n",
    "\n",
    "# Deicision tree result\n",
    "print('Decision Tree')\n",
    "dt = DecisionTreeClassifier(criterion='entropy', max_depth=5).fit(x_train,y_train)\n",
    "y_pred = dt.predict(x_test)\n",
    "print(classification_report(y_test,y_pred))\n",
    "\n",
    "print('BAC index encoding with prefix length 9')\n",
    "y = idf9['outcome']\n",
    "x =idf9.drop(columns=['outcome','caseid'],axis=1)\n",
    "x_train,x_test,y_train,y_test = train_test_split(x,y, test_size=0.3)\n",
    "\n",
    "# Deicision tree result\n",
    "print('Decision Tree')\n",
    "dt = DecisionTreeClassifier(criterion='entropy', max_depth=5).fit(x_train,y_train)\n",
    "y_pred = dt.predict(x_test)\n",
    "print(classification_report(y_test,y_pred))"
   ]
  },
  {
   "cell_type": "code",
   "execution_count": 59,
   "metadata": {},
   "outputs": [
    {
     "name": "stdout",
     "output_type": "stream",
     "text": [
      "BAC aggregation encoding with prefix length 10\n",
      "Decision Tree\n",
      "              precision    recall  f1-score   support\n",
      "\n",
      "       False       0.77      1.00      0.87        10\n",
      "        True       1.00      0.40      0.57         5\n",
      "\n",
      "    accuracy                           0.80        15\n",
      "   macro avg       0.88      0.70      0.72        15\n",
      "weighted avg       0.85      0.80      0.77        15\n",
      "\n",
      "BAC index encoding with prefix length 10\n",
      "Decision Tree\n",
      "              precision    recall  f1-score   support\n",
      "\n",
      "       False       0.58      0.78      0.67         9\n",
      "        True       0.33      0.17      0.22         6\n",
      "\n",
      "    accuracy                           0.53        15\n",
      "   macro avg       0.46      0.47      0.44        15\n",
      "weighted avg       0.48      0.53      0.49        15\n",
      "\n"
     ]
    }
   ],
   "source": [
    "print('BAC aggregation encoding with prefix length 10')\n",
    "y = adf10['outcome']\n",
    "x =adf10.drop(columns=['outcome','caseid'],axis=1)\n",
    "x_train,x_test,y_train,y_test = train_test_split(x,y, test_size=0.3)\n",
    "\n",
    "# Deicision tree result\n",
    "print('Decision Tree')\n",
    "dt = DecisionTreeClassifier(criterion='entropy', max_depth=5).fit(x_train,y_train)\n",
    "y_pred = dt.predict(x_test)\n",
    "print(classification_report(y_test,y_pred))\n",
    "\n",
    "print('BAC index encoding with prefix length 10')\n",
    "y = idf10['outcome']\n",
    "x =idf10.drop(columns=['outcome','caseid'],axis=1)\n",
    "x_train,x_test,y_train,y_test = train_test_split(x,y, test_size=0.3)\n",
    "\n",
    "# Deicision tree result\n",
    "print('Decision Tree')\n",
    "dt = DecisionTreeClassifier(criterion='entropy', max_depth=5).fit(x_train,y_train)\n",
    "y_pred = dt.predict(x_test)\n",
    "print(classification_report(y_test,y_pred))"
   ]
  },
  {
   "cell_type": "code",
   "execution_count": null,
   "metadata": {},
   "outputs": [],
   "source": []
  }
 ],
 "metadata": {
  "kernelspec": {
   "display_name": "Python 3",
   "language": "python",
   "name": "python3"
  },
  "language_info": {
   "codemirror_mode": {
    "name": "ipython",
    "version": 3
   },
   "file_extension": ".py",
   "mimetype": "text/x-python",
   "name": "python",
   "nbconvert_exporter": "python",
   "pygments_lexer": "ipython3",
   "version": "3.8.7"
  }
 },
 "nbformat": 4,
 "nbformat_minor": 2
}
