{
 "cells": [
  {
   "cell_type": "code",
   "execution_count": 1,
   "metadata": {},
   "outputs": [],
   "source": [
    "from river import stream,tree,metrics\n",
    "import utils\n",
    "import datetime\n",
    "from encoding import prefix_bin\n",
    "import csv"
   ]
  },
  {
   "cell_type": "code",
   "execution_count": 2,
   "metadata": {},
   "outputs": [],
   "source": [
    "dataset = stream.iter_csv(\n",
    "            './data/BPIC15_streaming.csv',\n",
    "            )\n",
    "totallength = len(list(dataset))"
   ]
  },
  {
   "cell_type": "code",
   "execution_count": 5,
   "metadata": {},
   "outputs": [],
   "source": [
    "dataset = stream.iter_csv(\n",
    "            './data/BPIC15_streaming.csv',\n",
    "            \n",
    "            )"
   ]
  },
  {
   "cell_type": "code",
   "execution_count": 4,
   "metadata": {},
   "outputs": [],
   "source": [
    "key_pair = {\n",
    "    'Case ID' : 'caseid',\n",
    "    'Activity' : 'activity',\n",
    "    'Resource' : 'resource',\n",
    "    'Complete Timestamp' : 'ts'\n",
    "}\n",
    "\n",
    "case_dict ={}\n",
    "trainset_prefix ={}\n",
    "feature_matrix ={}\n",
    "casecount = 0\n",
    "rowcounter = 0\n",
    "resultdict ={}\n",
    "\n",
    "acc_dict ={}"
   ]
  },
  {
   "cell_type": "code",
   "execution_count": null,
   "metadata": {},
   "outputs": [],
   "source": [
    "def set_label(x):\n",
    "    "
   ]
  },
  {
   "cell_type": "code",
   "execution_count": 5,
   "metadata": {},
   "outputs": [
    {
     "name": "stdout",
     "output_type": "stream",
     "text": [
      "0.0 % Case finished: 0\n",
      "4.46 % Case finished: 22\n",
      "8.92 % Case finished: 47\n",
      "13.39 % Case finished: 110\n",
      "17.85 % Case finished: 244\n",
      "22.31 % Case finished: 362\n",
      "26.77 % Case finished: 503\n",
      "31.24 % Case finished: 686\n",
      "35.7 % Case finished: 820\n",
      "40.16 % Case finished: 974\n",
      "44.62 % Case finished: 1008\n",
      "49.09 % Case finished: 1081\n",
      "53.55 % Case finished: 1203\n",
      "58.01 % Case finished: 1373\n",
      "62.47 % Case finished: 1584\n",
      "66.94 % Case finished: 1744\n",
      "71.4 % Case finished: 1910\n",
      "75.86 % Case finished: 2132\n",
      "80.32 % Case finished: 2273\n",
      "84.79 % Case finished: 2469\n",
      "89.25 % Case finished: 2953\n",
      "93.71 % Case finished: 3711\n",
      "98.17 % Case finished: 4599\n"
     ]
    }
   ],
   "source": [
    "for x,y in dataset:\n",
    "    if rowcounter%1000 == 0:\n",
    "        print(round(rowcounter*100/totallength,2) ,'%', 'Case finished: %s'%(casecount))\n",
    "    rowcounter +=1\n",
    "    # Event stream change dictionary keys\n",
    "    x = utils.dictkey_chg(x, key_pair)\n",
    "\n",
    "    # Event timestamp slice decimals\n",
    "#     x['ts'] = x['ts'][:-4]\n",
    "\n",
    "    # Check label possible\n",
    "    x = utils.set_label(x)\n",
    "\n",
    "    # Initialize case by prefix length\n",
    "    caseid = x['caseid']\n",
    "    x.pop('caseid')\n",
    "    case_bin = prefix_bin(caseid, x)\n",
    "\n",
    "    # Allocate event stream to prefix bin class\n",
    "    if 'True label' not in x.keys():\n",
    "        if caseid not in list(case_dict.keys()):\n",
    "            case_bin.set_prefix_length(1)    \n",
    "            case_dict[caseid] = []\n",
    "        else:\n",
    "            case_bin.set_prefix_length(len(case_dict[caseid])+1)\n",
    "            case_bin.set_prev_enc(case_dict[caseid][-1])\n",
    "        case_bin.update_encoded()\n",
    "        case_dict[caseid].append(case_bin)\n",
    "\n",
    "    # Adding newly finished case to training set.    \n",
    "    else:\n",
    "        casecount +=1\n",
    "\n",
    "        # Grace period to collect feature matrix\n",
    "        if casecount <100:\n",
    "            case_length = len(case_dict[caseid])\n",
    "            for prefix in range(1, case_length):\n",
    "                if 'prefix_%s'%(prefix+1) not in list(feature_matrix.keys()):\n",
    "                    feature_matrix['prefix_%s'%(prefix+1)]=set()\n",
    "                    # Initialize classifier and performance matrix and updating count\n",
    "                    trainset_prefix['prefix_%s'%(prefix+1)] = [tree.HoeffdingAdaptiveTreeClassifier(grace_period=50,split_criterion='info_gain'),metrics.Accuracy(), 0]\n",
    "                feature_list = list(case_dict[caseid][prefix].encoded.keys())\n",
    "                for x in feature_list: feature_matrix['prefix_%s'%(prefix+1)].add(x) \n",
    "            case_dict.pop(caseid)               \n",
    "\n",
    "        # Real training start\n",
    "        else:\n",
    "            # Modify encoded attributes of cases with feature matrix\n",
    "            case_length = len(case_dict[caseid])\n",
    "            y = x['True label']\n",
    "            for prefix in range(1, case_length):\n",
    "                case_dict[caseid][prefix].update_truelabel(y)\n",
    "                if case_dict[caseid][prefix].grace_updated == False:\n",
    "                    case_dict[caseid][prefix].encoded = utils.readjustment_training(case_dict[caseid][prefix].encoded, feature_matrix['prefix_%s'%(prefix+1)])\n",
    "                case_dict[caseid][prefix].update_grace_status(True)\n",
    "                x = case_dict[caseid][prefix].encoded\n",
    "                model = trainset_prefix['prefix_%s'%(prefix+1)][0]\n",
    "                model.learn_one(x,y)\n",
    "                trainset_prefix['prefix_%s'%(prefix+1)][2] +=1\n",
    "                y_pred = model.predict_one(x)\n",
    "                trainset_prefix['prefix_%s'%(prefix+1)][1].update(y,y_pred)\n",
    "\n",
    "                for cases in list(case_dict.keys()):\n",
    "                    if len(case_dict[cases]) >prefix:\n",
    "                        if case_dict[cases][prefix].grace_updated ==False:\n",
    "                            case_dict[cases][prefix].encoded = utils.readjustment_training(case_dict[cases][prefix].encoded, feature_matrix['prefix_%s'%(prefix+1)])\n",
    "\n",
    "                        case_dict[cases][prefix].update_grace_status(True)\n",
    "                        x_test = case_dict[cases][prefix].encoded\n",
    "                        y_pred = model.predict_one(x_test)\n",
    "                        case_dict[cases][prefix].update_prediction((trainset_prefix['prefix_%s'%(prefix+1)][2], y_pred))\n",
    "            resultdict[caseid] = case_dict.pop(caseid)\n",
    "\n",
    "    if casecount > 200 and rowcounter%1000 == 0:\n",
    "        for prefix in trainset_prefix.keys():\n",
    "            model = trainset_prefix[prefix][0]\n",
    "            if prefix not in list(acc_dict.keys()):\n",
    "                acc_dict[prefix]=[trainset_prefix[prefix][1].get()]\n",
    "            else:\n",
    "                acc_dict[prefix].append(trainset_prefix[prefix][1].get())\n",
    "            outputfile = './%s/%s.png'%(prefix, round(rowcounter*100/totallength,2))\n",
    "            utils.save_graph_as_png(model.draw(),outputfile)\n"
   ]
  },
  {
   "cell_type": "code",
   "execution_count": 6,
   "metadata": {},
   "outputs": [
    {
     "name": "stdout",
     "output_type": "stream",
     "text": [
      "[0.496551724137931, 0.5285171102661597, 0.5371287128712872, 0.5741056218057922, 0.5728155339805825, 0.5668571428571428, 0.5698569856985699, 0.5580448065173116, 0.5461956521739131, 0.5290423861852434, 0.5245791245791246, 0.5300911854103344, 0.526228602981778, 0.5228726020659125, 0.5220791168353266, 0.5270042194092827, 0.5262789067974772, 0.5359911406423035, 0.6002222222222222]\n",
      "[0.5547445255474452, 0.5766129032258065, 0.577023498694517, 0.6103202846975089, 0.6111111111111112, 0.6004784688995215, 0.6022988505747127, 0.5899893503727369, 0.5767045454545454, 0.556920556920557, 0.5474349964862966, 0.5351934051997463, 0.5305299539170507, 0.5407483341875962, 0.5459330143540669, 0.5471698113207547, 0.5451250453062704, 0.5538461538461539, 0.6149988602689765]\n",
      "[0.875, 0.8359788359788359, 0.8054607508532423, 0.8183908045977012, 0.8150943396226416, 0.8021806853582555, 0.8026905829596412, 0.7997179125528914, 0.7923566878980892, 0.7804054054054054, 0.780295566502463, 0.7799263351749539, 0.7761069340016709, 0.7698170731707317, 0.7681686046511628, 0.7588274483677548, 0.753607103218646, 0.7531760435571688, 0.7416805324459235]\n"
     ]
    }
   ],
   "source": [
    "for prefix in acc_dict.keys():\n",
    "    print(acc_dict[prefix])"
   ]
  },
  {
   "cell_type": "code",
   "execution_count": 7,
   "metadata": {
    "scrolled": true
   },
   "outputs": [
    {
     "data": {
      "image/png": "[encoded data removed]",
      "text/plain": [
       "<Figure size 432x288 with 1 Axes>"
      ]
     },
     "metadata": {
      "needs_background": "light"
     },
     "output_type": "display_data"
    }
   ],
   "source": [
    "import matplotlib.pyplot as plt\n",
    "for prefix in acc_dict.keys():\n",
    "    plt.plot(range(len(acc_dict[prefix])), acc_dict[prefix],label='prefix_%s'%(prefix))\n",
    "plt.legend()\n",
    "plt.show()"
   ]
  },
  {
   "cell_type": "code",
   "execution_count": 11,
   "metadata": {},
   "outputs": [
    {
     "name": "stdout",
     "output_type": "stream",
     "text": [
      "{'Accepted', 'Not accepted'}\n",
      "{'Accepted', 'Not accepted'}\n",
      "{'Accepted'}\n",
      "Accepted\n",
      "{'Accepted'}\n",
      "Accepted\n",
      "{'Accepted'}\n",
      "Accepted\n",
      "{'Accepted'}\n",
      "Not accepted\n",
      "{'Accepted'}\n",
      "Not accepted\n",
      "{'Accepted'}\n",
      "Not accepted\n"
     ]
    }
   ],
   "source": [
    "print(set(resultdict['Offer_1177178664'][1].predicted.values()))\n",
    "print(set(resultdict['Offer_1177178664'][2].predicted.values()))\n",
    "print(set(resultdict['Offer_1510165732'][3].predicted.values()))\n",
    "\n",
    "print(resultdict['Offer_1510165732'][1].true_label)\n",
    "\n",
    "\n",
    "for case in np.random.choice(list(resultdict.keys()),5):\n",
    "    try:\n",
    "        print(set(resultdict[case][3].predicted.values()))\n",
    "        print(resultdict[case][3].true_label)    \n",
    "    except:\n",
    "        pass"
   ]
  },
  {
   "cell_type": "code",
   "execution_count": 9,
   "metadata": {},
   "outputs": [
    {
     "name": "stdout",
     "output_type": "stream",
     "text": [
      "{'prefix_2': [HoeffdingAdaptiveTreeClassifier (\n",
      "  grace_period=50\n",
      "  max_depth=inf\n",
      "  split_criterion=\"info_gain\"\n",
      "  split_confidence=1e-07\n",
      "  tie_threshold=0.05\n",
      "  leaf_prediction=\"nba\"\n",
      "  nb_threshold=0\n",
      "  nominal_attributes=None\n",
      "  attr_obs=\"gaussian\"\n",
      "  attr_obs_params={}\n",
      "  bootstrap_sampling=True\n",
      "  drift_window_threshold=300\n",
      "  adwin_confidence=0.002\n",
      "  seed=None\n",
      "), Accuracy: 61.97%, 4901], 'prefix_3': [HoeffdingAdaptiveTreeClassifier (\n",
      "  grace_period=50\n",
      "  max_depth=inf\n",
      "  split_criterion=\"info_gain\"\n",
      "  split_confidence=1e-07\n",
      "  tie_threshold=0.05\n",
      "  leaf_prediction=\"nba\"\n",
      "  nb_threshold=0\n",
      "  nominal_attributes=None\n",
      "  attr_obs=\"gaussian\"\n",
      "  attr_obs_params={}\n",
      "  bootstrap_sampling=True\n",
      "  drift_window_threshold=300\n",
      "  adwin_confidence=0.002\n",
      "  seed=None\n",
      "), Accuracy: 63.35%, 4786], 'prefix_4': [HoeffdingAdaptiveTreeClassifier (\n",
      "  grace_period=50\n",
      "  max_depth=inf\n",
      "  split_criterion=\"info_gain\"\n",
      "  split_confidence=1e-07\n",
      "  tie_threshold=0.05\n",
      "  leaf_prediction=\"nba\"\n",
      "  nb_threshold=0\n",
      "  nominal_attributes=None\n",
      "  attr_obs=\"gaussian\"\n",
      "  attr_obs_params={}\n",
      "  bootstrap_sampling=True\n",
      "  drift_window_threshold=300\n",
      "  adwin_confidence=0.002\n",
      "  seed=None\n",
      "), Accuracy: 73.63%, 2510]}\n"
     ]
    }
   ],
   "source": [
    "print(trainset_prefix)"
   ]
  },
  {
   "cell_type": "code",
   "execution_count": 10,
   "metadata": {},
   "outputs": [
    {
     "name": "stdout",
     "output_type": "stream",
     "text": [
      "Accuracy: 71.52%\n",
      "                    Accepted  Not accepted\n",
      "      Accepted           540             0\n",
      "  Not accepted           215             0\n",
      "               Precision   Recall   F1      Support  \n",
      "                                                     \n",
      "    Accepted       0.715    1.000   0.834        54  \n",
      "Not accepted       0.000    0.000   0.000       215  \n",
      "                                                     \n",
      "       Macro       0.358    0.500   0.417            \n",
      "       Micro       0.715    0.715   0.715            \n",
      "    Weighted       0.512    0.715   0.596            \n",
      "\n",
      "                   71.5% accuracy                    \n"
     ]
    }
   ],
   "source": [
    "import numpy as np\n",
    "testcases =[]\n",
    "testpred = []\n",
    "testtrue = []\n",
    "for cases in (np.random.choice(list(resultdict.keys()), 1500)):\n",
    "    if len(resultdict[cases])>3:\n",
    "        y_pred = trainset_prefix['prefix_4'][0].predict_one(resultdict[cases][3].encoded)\n",
    "        testpred.append(y_pred)\n",
    "        testtrue.append(resultdict[cases][3].true_label)\n",
    "metric = metrics.Accuracy()\n",
    "cm = metrics.ConfusionMatrix()\n",
    "report = metrics.ClassificationReport()\n",
    "for yt,yp in zip(testtrue,testpred):\n",
    "    metric = metric.update(yt,yp)\n",
    "    cm = cm.update(yt,yp)\n",
    "    report = report.update(yt,yp)\n",
    "print(metric)\n",
    "print(cm)\n",
    "print(report)"
   ]
  },
  {
   "cell_type": "code",
   "execution_count": null,
   "metadata": {},
   "outputs": [],
   "source": []
  }
 ],
 "metadata": {
  "kernelspec": {
   "display_name": "Python 3",
   "language": "python",
   "name": "python3"
  },
  "language_info": {
   "codemirror_mode": {
    "name": "ipython",
    "version": 3
   },
   "file_extension": ".py",
   "mimetype": "text/x-python",
   "name": "python",
   "nbconvert_exporter": "python",
   "pygments_lexer": "ipython3",
   "version": "3.8.7"
  }
 },
 "nbformat": 4,
 "nbformat_minor": 2
}
